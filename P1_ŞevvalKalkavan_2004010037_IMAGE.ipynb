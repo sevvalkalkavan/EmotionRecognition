{
  "nbformat": 4,
  "nbformat_minor": 0,
  "metadata": {
    "colab": {
      "provenance": []
    },
    "kernelspec": {
      "name": "python3",
      "display_name": "Python 3"
    },
    "language_info": {
      "name": "python"
    }
  },
  "cells": [
    {
      "cell_type": "markdown",
      "source": [
        "# **LOAD DATA**"
      ],
      "metadata": {
        "id": "kySW1UNiUhrr"
      }
    },
    {
      "cell_type": "code",
      "execution_count": 1,
      "metadata": {
        "colab": {
          "base_uri": "https://localhost:8080/"
        },
        "id": "a0EAWhsmgTil",
        "outputId": "32790281-5bc2-46dc-f191-7586e093c5e2"
      },
      "outputs": [
        {
          "output_type": "stream",
          "name": "stdout",
          "text": [
            "Requirement already satisfied: kaggle in /usr/local/lib/python3.10/dist-packages (1.6.14)\n",
            "Requirement already satisfied: six>=1.10 in /usr/local/lib/python3.10/dist-packages (from kaggle) (1.16.0)\n",
            "Requirement already satisfied: certifi>=2023.7.22 in /usr/local/lib/python3.10/dist-packages (from kaggle) (2024.2.2)\n",
            "Requirement already satisfied: python-dateutil in /usr/local/lib/python3.10/dist-packages (from kaggle) (2.8.2)\n",
            "Requirement already satisfied: requests in /usr/local/lib/python3.10/dist-packages (from kaggle) (2.31.0)\n",
            "Requirement already satisfied: tqdm in /usr/local/lib/python3.10/dist-packages (from kaggle) (4.66.4)\n",
            "Requirement already satisfied: python-slugify in /usr/local/lib/python3.10/dist-packages (from kaggle) (8.0.4)\n",
            "Requirement already satisfied: urllib3 in /usr/local/lib/python3.10/dist-packages (from kaggle) (2.0.7)\n",
            "Requirement already satisfied: bleach in /usr/local/lib/python3.10/dist-packages (from kaggle) (6.1.0)\n",
            "Requirement already satisfied: webencodings in /usr/local/lib/python3.10/dist-packages (from bleach->kaggle) (0.5.1)\n",
            "Requirement already satisfied: text-unidecode>=1.3 in /usr/local/lib/python3.10/dist-packages (from python-slugify->kaggle) (1.3)\n",
            "Requirement already satisfied: charset-normalizer<4,>=2 in /usr/local/lib/python3.10/dist-packages (from requests->kaggle) (3.3.2)\n",
            "Requirement already satisfied: idna<4,>=2.5 in /usr/local/lib/python3.10/dist-packages (from requests->kaggle) (3.7)\n"
          ]
        }
      ],
      "source": [
        "! pip install kaggle"
      ]
    },
    {
      "cell_type": "code",
      "source": [
        "from google.colab import drive\n",
        "drive.mount('/content/drive')"
      ],
      "metadata": {
        "colab": {
          "base_uri": "https://localhost:8080/"
        },
        "id": "DhJTyY7IgUCm",
        "outputId": "87b431ba-450a-4ca7-9cb7-a5a8f8fbc7ea"
      },
      "execution_count": 2,
      "outputs": [
        {
          "output_type": "stream",
          "name": "stdout",
          "text": [
            "Mounted at /content/drive\n"
          ]
        }
      ]
    },
    {
      "cell_type": "code",
      "source": [
        "! mkdir ~/.kaggle"
      ],
      "metadata": {
        "id": "YM_Sp_dzgVqH"
      },
      "execution_count": 3,
      "outputs": []
    },
    {
      "cell_type": "code",
      "source": [
        "!cp /content/drive/MyDrive/Colab\\ Notebooks/kaggle.json ~/.kaggle/kaggle.json"
      ],
      "metadata": {
        "id": "KvzC6fjXgXK-"
      },
      "execution_count": 4,
      "outputs": []
    },
    {
      "cell_type": "code",
      "source": [
        "! chmod 600 ~/.kaggle/kaggle.json"
      ],
      "metadata": {
        "id": "_XNqW087gY5G"
      },
      "execution_count": 5,
      "outputs": []
    },
    {
      "cell_type": "code",
      "source": [
        "!kaggle datasets download -d deadskull7/fer2013\n",
        "!kaggle datasets download -d davilsena/ckdataset\n"
      ],
      "metadata": {
        "colab": {
          "base_uri": "https://localhost:8080/"
        },
        "id": "YR2SjW6VgduR",
        "outputId": "37de37c7-8304-41ed-f142-1b0e8b58c0a1"
      },
      "execution_count": 6,
      "outputs": [
        {
          "output_type": "stream",
          "name": "stdout",
          "text": [
            "Dataset URL: https://www.kaggle.com/datasets/deadskull7/fer2013\n",
            "License(s): CC0-1.0\n",
            "Downloading fer2013.zip to /content\n",
            " 86% 83.0M/96.6M [00:00<00:00, 86.4MB/s]\n",
            "100% 96.6M/96.6M [00:01<00:00, 97.9MB/s]\n",
            "Dataset URL: https://www.kaggle.com/datasets/davilsena/ckdataset\n",
            "License(s): CC0-1.0\n",
            "Downloading ckdataset.zip to /content\n",
            "  0% 0.00/2.48M [00:00<?, ?B/s]\n",
            "100% 2.48M/2.48M [00:00<00:00, 60.1MB/s]\n"
          ]
        }
      ]
    },
    {
      "cell_type": "code",
      "source": [
        "!unzip fer2013.zip\n",
        "!unzip ckdataset.zip"
      ],
      "metadata": {
        "colab": {
          "base_uri": "https://localhost:8080/"
        },
        "id": "T4VMy68jghfV",
        "outputId": "842f266e-2262-4a3c-e6d0-d3459b4dc52f"
      },
      "execution_count": 7,
      "outputs": [
        {
          "output_type": "stream",
          "name": "stdout",
          "text": [
            "Archive:  fer2013.zip\n",
            "  inflating: fer2013.csv             \n",
            "Archive:  ckdataset.zip\n",
            "  inflating: ckextended.csv          \n"
          ]
        }
      ]
    },
    {
      "cell_type": "code",
      "source": [
        "import pandas as pd\n",
        "import numpy as np\n",
        "import matplotlib.pyplot as plt\n",
        "import seaborn as sns\n",
        "from keras.models import load_model\n",
        "from sklearn.metrics import mean_absolute_error, mean_squared_error, r2_score\n",
        "from tensorflow.keras.utils import to_categorical\n",
        "from sklearn.model_selection import train_test_split\n",
        "from sklearn.linear_model import LinearRegression\n",
        "from sklearn.ensemble import RandomForestRegressor\n",
        "from lightgbm import LGBMRegressor\n",
        "from sklearn.svm import SVR\n",
        "from sklearn.ensemble import GradientBoostingRegressor\n",
        "from sklearn.metrics import mean_squared_error, mean_absolute_error, r2_score\n",
        "from keras.models import Sequential\n",
        "from keras.layers import Conv2D, MaxPooling2D, Flatten, Dense\n",
        "from sklearn.metrics import mean_absolute_error, mean_squared_error, r2_score\n"
      ],
      "metadata": {
        "id": "hubegPjugks3"
      },
      "execution_count": 8,
      "outputs": []
    },
    {
      "cell_type": "markdown",
      "source": [
        "# **DATA INFORMATION**"
      ],
      "metadata": {
        "id": "wT8kvNywUpL0"
      }
    },
    {
      "cell_type": "code",
      "source": [
        "data_fer = pd.read_csv('fer2013.csv')\n",
        "data_ck = pd.read_csv('ckextended.csv')\n",
        "data_laugh = pd.read_csv('/content/drive/MyDrive/image/new_dataset.csv')\n",
        "data_confused = pd.read_csv('/content/drive/MyDrive/image/confused.csv')\n",
        "\n",
        "data_fer.head()\n",
        "data_ck.head()\n",
        "data_laugh.head()\n",
        "data_confused.head()"
      ],
      "metadata": {
        "colab": {
          "base_uri": "https://localhost:8080/",
          "height": 204
        },
        "id": "SK8mHiiagq6i",
        "outputId": "3e304373-520d-40b0-bf82-aba9b68a5fd4"
      },
      "execution_count": 9,
      "outputs": [
        {
          "output_type": "execute_result",
          "data": {
            "text/plain": [
              "   emotion                                             pixels     Usage\n",
              "0        7  30 35 47 79 137 180 123 132 163 196 147 197 15...  Training\n",
              "1        7  117 108 120 120 120 160 198 212 217 217 218 21...  Training\n",
              "2        7  176 176 151 81 47 66 101 116 122 131 140 140 1...  Training\n",
              "3        7  69 72 75 93 113 116 128 138 146 169 165 172 18...  Training\n",
              "4        7  17 23 22 37 23 18 29 28 21 8 7 17 27 44 42 43 ...  Training"
            ],
            "text/html": [
              "\n",
              "  <div id=\"df-f6dc8a77-8618-4241-a050-9db6de2346d7\" class=\"colab-df-container\">\n",
              "    <div>\n",
              "<style scoped>\n",
              "    .dataframe tbody tr th:only-of-type {\n",
              "        vertical-align: middle;\n",
              "    }\n",
              "\n",
              "    .dataframe tbody tr th {\n",
              "        vertical-align: top;\n",
              "    }\n",
              "\n",
              "    .dataframe thead th {\n",
              "        text-align: right;\n",
              "    }\n",
              "</style>\n",
              "<table border=\"1\" class=\"dataframe\">\n",
              "  <thead>\n",
              "    <tr style=\"text-align: right;\">\n",
              "      <th></th>\n",
              "      <th>emotion</th>\n",
              "      <th>pixels</th>\n",
              "      <th>Usage</th>\n",
              "    </tr>\n",
              "  </thead>\n",
              "  <tbody>\n",
              "    <tr>\n",
              "      <th>0</th>\n",
              "      <td>7</td>\n",
              "      <td>30 35 47 79 137 180 123 132 163 196 147 197 15...</td>\n",
              "      <td>Training</td>\n",
              "    </tr>\n",
              "    <tr>\n",
              "      <th>1</th>\n",
              "      <td>7</td>\n",
              "      <td>117 108 120 120 120 160 198 212 217 217 218 21...</td>\n",
              "      <td>Training</td>\n",
              "    </tr>\n",
              "    <tr>\n",
              "      <th>2</th>\n",
              "      <td>7</td>\n",
              "      <td>176 176 151 81 47 66 101 116 122 131 140 140 1...</td>\n",
              "      <td>Training</td>\n",
              "    </tr>\n",
              "    <tr>\n",
              "      <th>3</th>\n",
              "      <td>7</td>\n",
              "      <td>69 72 75 93 113 116 128 138 146 169 165 172 18...</td>\n",
              "      <td>Training</td>\n",
              "    </tr>\n",
              "    <tr>\n",
              "      <th>4</th>\n",
              "      <td>7</td>\n",
              "      <td>17 23 22 37 23 18 29 28 21 8 7 17 27 44 42 43 ...</td>\n",
              "      <td>Training</td>\n",
              "    </tr>\n",
              "  </tbody>\n",
              "</table>\n",
              "</div>\n",
              "    <div class=\"colab-df-buttons\">\n",
              "\n",
              "  <div class=\"colab-df-container\">\n",
              "    <button class=\"colab-df-convert\" onclick=\"convertToInteractive('df-f6dc8a77-8618-4241-a050-9db6de2346d7')\"\n",
              "            title=\"Convert this dataframe to an interactive table.\"\n",
              "            style=\"display:none;\">\n",
              "\n",
              "  <svg xmlns=\"http://www.w3.org/2000/svg\" height=\"24px\" viewBox=\"0 -960 960 960\">\n",
              "    <path d=\"M120-120v-720h720v720H120Zm60-500h600v-160H180v160Zm220 220h160v-160H400v160Zm0 220h160v-160H400v160ZM180-400h160v-160H180v160Zm440 0h160v-160H620v160ZM180-180h160v-160H180v160Zm440 0h160v-160H620v160Z\"/>\n",
              "  </svg>\n",
              "    </button>\n",
              "\n",
              "  <style>\n",
              "    .colab-df-container {\n",
              "      display:flex;\n",
              "      gap: 12px;\n",
              "    }\n",
              "\n",
              "    .colab-df-convert {\n",
              "      background-color: #E8F0FE;\n",
              "      border: none;\n",
              "      border-radius: 50%;\n",
              "      cursor: pointer;\n",
              "      display: none;\n",
              "      fill: #1967D2;\n",
              "      height: 32px;\n",
              "      padding: 0 0 0 0;\n",
              "      width: 32px;\n",
              "    }\n",
              "\n",
              "    .colab-df-convert:hover {\n",
              "      background-color: #E2EBFA;\n",
              "      box-shadow: 0px 1px 2px rgba(60, 64, 67, 0.3), 0px 1px 3px 1px rgba(60, 64, 67, 0.15);\n",
              "      fill: #174EA6;\n",
              "    }\n",
              "\n",
              "    .colab-df-buttons div {\n",
              "      margin-bottom: 4px;\n",
              "    }\n",
              "\n",
              "    [theme=dark] .colab-df-convert {\n",
              "      background-color: #3B4455;\n",
              "      fill: #D2E3FC;\n",
              "    }\n",
              "\n",
              "    [theme=dark] .colab-df-convert:hover {\n",
              "      background-color: #434B5C;\n",
              "      box-shadow: 0px 1px 3px 1px rgba(0, 0, 0, 0.15);\n",
              "      filter: drop-shadow(0px 1px 2px rgba(0, 0, 0, 0.3));\n",
              "      fill: #FFFFFF;\n",
              "    }\n",
              "  </style>\n",
              "\n",
              "    <script>\n",
              "      const buttonEl =\n",
              "        document.querySelector('#df-f6dc8a77-8618-4241-a050-9db6de2346d7 button.colab-df-convert');\n",
              "      buttonEl.style.display =\n",
              "        google.colab.kernel.accessAllowed ? 'block' : 'none';\n",
              "\n",
              "      async function convertToInteractive(key) {\n",
              "        const element = document.querySelector('#df-f6dc8a77-8618-4241-a050-9db6de2346d7');\n",
              "        const dataTable =\n",
              "          await google.colab.kernel.invokeFunction('convertToInteractive',\n",
              "                                                    [key], {});\n",
              "        if (!dataTable) return;\n",
              "\n",
              "        const docLinkHtml = 'Like what you see? Visit the ' +\n",
              "          '<a target=\"_blank\" href=https://colab.research.google.com/notebooks/data_table.ipynb>data table notebook</a>'\n",
              "          + ' to learn more about interactive tables.';\n",
              "        element.innerHTML = '';\n",
              "        dataTable['output_type'] = 'display_data';\n",
              "        await google.colab.output.renderOutput(dataTable, element);\n",
              "        const docLink = document.createElement('div');\n",
              "        docLink.innerHTML = docLinkHtml;\n",
              "        element.appendChild(docLink);\n",
              "      }\n",
              "    </script>\n",
              "  </div>\n",
              "\n",
              "\n",
              "<div id=\"df-7b1c57ac-94b8-4e77-8b95-c1baad66d563\">\n",
              "  <button class=\"colab-df-quickchart\" onclick=\"quickchart('df-7b1c57ac-94b8-4e77-8b95-c1baad66d563')\"\n",
              "            title=\"Suggest charts\"\n",
              "            style=\"display:none;\">\n",
              "\n",
              "<svg xmlns=\"http://www.w3.org/2000/svg\" height=\"24px\"viewBox=\"0 0 24 24\"\n",
              "     width=\"24px\">\n",
              "    <g>\n",
              "        <path d=\"M19 3H5c-1.1 0-2 .9-2 2v14c0 1.1.9 2 2 2h14c1.1 0 2-.9 2-2V5c0-1.1-.9-2-2-2zM9 17H7v-7h2v7zm4 0h-2V7h2v10zm4 0h-2v-4h2v4z\"/>\n",
              "    </g>\n",
              "</svg>\n",
              "  </button>\n",
              "\n",
              "<style>\n",
              "  .colab-df-quickchart {\n",
              "      --bg-color: #E8F0FE;\n",
              "      --fill-color: #1967D2;\n",
              "      --hover-bg-color: #E2EBFA;\n",
              "      --hover-fill-color: #174EA6;\n",
              "      --disabled-fill-color: #AAA;\n",
              "      --disabled-bg-color: #DDD;\n",
              "  }\n",
              "\n",
              "  [theme=dark] .colab-df-quickchart {\n",
              "      --bg-color: #3B4455;\n",
              "      --fill-color: #D2E3FC;\n",
              "      --hover-bg-color: #434B5C;\n",
              "      --hover-fill-color: #FFFFFF;\n",
              "      --disabled-bg-color: #3B4455;\n",
              "      --disabled-fill-color: #666;\n",
              "  }\n",
              "\n",
              "  .colab-df-quickchart {\n",
              "    background-color: var(--bg-color);\n",
              "    border: none;\n",
              "    border-radius: 50%;\n",
              "    cursor: pointer;\n",
              "    display: none;\n",
              "    fill: var(--fill-color);\n",
              "    height: 32px;\n",
              "    padding: 0;\n",
              "    width: 32px;\n",
              "  }\n",
              "\n",
              "  .colab-df-quickchart:hover {\n",
              "    background-color: var(--hover-bg-color);\n",
              "    box-shadow: 0 1px 2px rgba(60, 64, 67, 0.3), 0 1px 3px 1px rgba(60, 64, 67, 0.15);\n",
              "    fill: var(--button-hover-fill-color);\n",
              "  }\n",
              "\n",
              "  .colab-df-quickchart-complete:disabled,\n",
              "  .colab-df-quickchart-complete:disabled:hover {\n",
              "    background-color: var(--disabled-bg-color);\n",
              "    fill: var(--disabled-fill-color);\n",
              "    box-shadow: none;\n",
              "  }\n",
              "\n",
              "  .colab-df-spinner {\n",
              "    border: 2px solid var(--fill-color);\n",
              "    border-color: transparent;\n",
              "    border-bottom-color: var(--fill-color);\n",
              "    animation:\n",
              "      spin 1s steps(1) infinite;\n",
              "  }\n",
              "\n",
              "  @keyframes spin {\n",
              "    0% {\n",
              "      border-color: transparent;\n",
              "      border-bottom-color: var(--fill-color);\n",
              "      border-left-color: var(--fill-color);\n",
              "    }\n",
              "    20% {\n",
              "      border-color: transparent;\n",
              "      border-left-color: var(--fill-color);\n",
              "      border-top-color: var(--fill-color);\n",
              "    }\n",
              "    30% {\n",
              "      border-color: transparent;\n",
              "      border-left-color: var(--fill-color);\n",
              "      border-top-color: var(--fill-color);\n",
              "      border-right-color: var(--fill-color);\n",
              "    }\n",
              "    40% {\n",
              "      border-color: transparent;\n",
              "      border-right-color: var(--fill-color);\n",
              "      border-top-color: var(--fill-color);\n",
              "    }\n",
              "    60% {\n",
              "      border-color: transparent;\n",
              "      border-right-color: var(--fill-color);\n",
              "    }\n",
              "    80% {\n",
              "      border-color: transparent;\n",
              "      border-right-color: var(--fill-color);\n",
              "      border-bottom-color: var(--fill-color);\n",
              "    }\n",
              "    90% {\n",
              "      border-color: transparent;\n",
              "      border-bottom-color: var(--fill-color);\n",
              "    }\n",
              "  }\n",
              "</style>\n",
              "\n",
              "  <script>\n",
              "    async function quickchart(key) {\n",
              "      const quickchartButtonEl =\n",
              "        document.querySelector('#' + key + ' button');\n",
              "      quickchartButtonEl.disabled = true;  // To prevent multiple clicks.\n",
              "      quickchartButtonEl.classList.add('colab-df-spinner');\n",
              "      try {\n",
              "        const charts = await google.colab.kernel.invokeFunction(\n",
              "            'suggestCharts', [key], {});\n",
              "      } catch (error) {\n",
              "        console.error('Error during call to suggestCharts:', error);\n",
              "      }\n",
              "      quickchartButtonEl.classList.remove('colab-df-spinner');\n",
              "      quickchartButtonEl.classList.add('colab-df-quickchart-complete');\n",
              "    }\n",
              "    (() => {\n",
              "      let quickchartButtonEl =\n",
              "        document.querySelector('#df-7b1c57ac-94b8-4e77-8b95-c1baad66d563 button');\n",
              "      quickchartButtonEl.style.display =\n",
              "        google.colab.kernel.accessAllowed ? 'block' : 'none';\n",
              "    })();\n",
              "  </script>\n",
              "</div>\n",
              "\n",
              "    </div>\n",
              "  </div>\n"
            ],
            "application/vnd.google.colaboratory.intrinsic+json": {
              "type": "dataframe",
              "variable_name": "data_confused",
              "summary": "{\n  \"name\": \"data_confused\",\n  \"rows\": 30,\n  \"fields\": [\n    {\n      \"column\": \"emotion\",\n      \"properties\": {\n        \"dtype\": \"number\",\n        \"std\": 0,\n        \"min\": 7,\n        \"max\": 7,\n        \"num_unique_values\": 1,\n        \"samples\": [\n          7\n        ],\n        \"semantic_type\": \"\",\n        \"description\": \"\"\n      }\n    },\n    {\n      \"column\": \"pixels\",\n      \"properties\": {\n        \"dtype\": \"string\",\n        \"num_unique_values\": 30,\n        \"samples\": [\n          \"96 100 101 100 103 97 86 89 100 108 112 111 109 106 107 110 108 113 136 168 192 203 206 210 215 218 219 221 216 208 206 203 193 174 147 98 69 72 76 98 93 79 61 85 129 186 225 232 89 98 96 97 94 83 82 91 102 108 111 109 106 110 116 114 114 127 160 189 205 211 213 215 218 217 217 217 213 209 206 201 198 183 164 127 87 70 70 82 95 87 65 82 128 179 221 235 89 95 91 90 83 77 83 93 101 106 109 110 111 114 116 116 120 141 176 199 210 216 217 217 218 218 217 216 212 208 206 201 195 185 172 146 112 78 69 72 91 94 72 83 129 172 216 234 91 90 87 87 77 76 83 91 96 100 104 108 113 116 115 118 131 162 190 207 213 218 219 218 219 220 217 215 212 208 207 203 197 186 173 158 137 102 68 68 86 96 81 74 118 160 209 233 89 84 87 84 73 74 82 89 93 98 104 107 114 113 109 121 145 179 200 212 215 218 218 217 218 218 215 212 211 211 211 205 197 186 177 170 152 122 79 61 74 89 93 71 98 148 205 232 81 78 85 78 69 72 80 86 90 97 106 111 115 108 106 127 162 196 211 217 217 218 217 217 217 216 215 213 214 216 215 207 197 190 189 185 169 138 93 59 60 79 93 77 89 137 198 230 75 75 77 66 63 69 76 83 89 98 106 113 108 99 110 137 169 197 210 217 219 218 216 215 215 215 216 215 216 216 213 206 199 201 202 196 184 155 111 67 48 66 83 83 90 127 190 226 72 71 64 56 59 69 76 81 89 95 103 108 99 103 134 163 184 200 210 216 216 215 213 213 214 215 217 217 215 215 213 207 202 197 187 180 169 158 126 78 46 52 73 82 89 117 180 224 69 64 53 51 58 69 76 81 89 93 101 100 87 108 147 173 192 202 208 211 210 208 207 210 213 214 216 215 215 215 207 193 181 157 141 136 131 139 132 97 53 39 60 75 88 107 168 220 65 55 48 50 56 67 73 79 87 93 101 87 72 95 122 138 159 173 183 191 197 201 204 208 209 212 213 212 210 204 183 155 136 127 132 140 138 131 122 105 63 35 42 69 88 100 151 211 55 46 47 48 53 64 70 76 81 90 87 68 71 94 115 129 141 150 157 166 174 186 198 208 210 211 209 206 204 193 168 146 138 145 162 174 172 163 136 101 68 40 28 56 81 89 130 196 44 42 49 44 51 61 66 72 80 84 67 63 95 132 162 175 175 169 167 168 171 180 191 204 212 211 207 202 200 187 169 158 153 161 167 170 169 170 154 114 77 48 20 38 73 85 111 176 36 41 44 41 49 56 62 68 77 76 66 92 137 168 187 191 185 179 174 174 175 180 185 196 208 207 206 205 195 179 169 164 166 175 174 165 153 143 130 106 74 51 21 23 58 77 93 150 35 41 38 39 47 52 58 65 69 66 78 118 153 172 179 179 180 177 175 176 177 177 182 193 202 206 204 200 187 175 170 166 178 177 157 129 107 88 76 62 46 33 20 19 42 73 90 124 35 37 32 36 44 48 54 61 62 66 91 127 150 161 169 178 187 186 171 160 157 158 169 184 196 201 203 194 179 168 142 123 124 116 105 97 102 112 118 108 77 36 34 36 37 67 90 110 31 30 29 34 39 44 50 55 60 75 102 128 140 140 145 150 150 138 122 110 101 95 92 113 163 195 192 159 138 95 84 110 116 113 103 142 107 80 113 135 133 84 52 45 31 56 87 99 27 27 28 32 36 43 47 50 63 82 91 87 82 92 115 143 157 148 135 144 144 130 91 45 76 160 164 123 80 43 123 134 80 77 80 168 143 88 109 137 145 110 39 12 19 48 82 95 25 24 27 29 34 42 43 43 53 69 52 41 81 104 108 113 118 123 136 140 127 151 158 100 73 167 183 174 111 95 153 144 107 80 109 166 157 128 144 163 153 123 64 18 14 40 73 94 24 23 25 28 31 40 40 30 45 83 81 78 101 94 112 91 62 81 148 183 129 144 164 149 141 200 210 195 152 139 166 172 170 150 161 168 153 141 160 173 156 128 70 22 13 34 66 94 23 22 24 26 33 40 44 48 58 55 52 101 139 133 147 133 97 112 168 184 165 172 181 174 170 216 229 218 175 146 177 179 179 173 166 158 158 164 178 181 163 133 74 24 12 31 63 92 22 22 22 25 33 39 50 71 96 104 97 122 153 146 155 165 166 170 178 174 179 190 196 166 162 217 227 224 189 139 169 194 187 180 176 178 184 190 192 188 170 139 81 26 12 31 58 84 23 23 22 27 35 38 48 69 94 121 134 145 166 169 171 171 176 174 174 181 190 204 204 162 164 219 229 226 205 157 174 199 200 196 195 197 198 198 196 191 175 140 88 28 14 34 55 76 23 22 24 32 37 39 52 74 101 126 142 152 175 192 194 193 194 194 194 198 210 216 210 188 182 219 229 229 213 181 170 199 204 203 201 201 201 202 198 190 168 139 91 30 16 36 52 70 25 24 27 33 36 40 57 86 116 143 161 161 174 205 208 211 211 210 211 212 214 217 211 192 196 220 226 230 219 197 160 180 202 207 209 207 204 202 197 184 160 139 88 27 20 40 48 65 26 26 29 32 38 47 64 94 128 153 173 174 172 202 217 218 216 216 215 219 217 213 205 188 203 218 224 231 225 209 173 155 178 192 197 197 196 190 183 169 150 135 76 22 29 44 46 62 25 28 32 32 40 49 63 96 134 160 178 183 174 182 209 214 216 218 218 217 213 204 186 183 206 215 222 233 226 209 193 168 153 158 161 163 163 159 154 148 143 124 61 21 36 48 45 61 24 30 33 30 41 49 58 94 132 158 174 185 181 173 184 201 208 211 209 206 197 179 160 192 211 209 216 222 216 201 186 183 179 179 177 174 170 167 161 153 143 111 45 21 40 49 45 60 26 32 31 27 42 48 52 87 127 152 170 179 184 182 172 174 184 183 180 178 171 162 163 197 206 192 186 192 191 170 146 158 182 194 201 200 193 185 172 158 141 99 37 27 45 51 47 61 30 32 26 24 46 49 45 78 119 144 163 176 180 182 180 175 175 173 173 176 179 175 166 172 175 135 119 143 139 108 85 125 178 186 191 187 183 181 169 153 132 86 36 36 48 53 50 60 32 29 21 26 54 52 43 70 109 137 154 170 180 182 182 182 185 188 189 189 188 185 173 137 122 83 86 104 96 87 86 130 182 187 187 182 177 173 159 142 124 81 43 42 48 55 52 56 33 25 17 30 59 57 45 65 99 129 151 164 175 179 183 186 186 189 190 188 185 193 196 150 122 134 138 113 118 130 134 162 191 189 181 176 172 168 153 133 118 78 46 44 51 56 51 56 30 21 18 35 64 60 46 62 92 120 141 156 167 172 179 181 180 182 185 184 184 199 208 195 178 176 175 158 163 174 176 185 195 190 180 172 166 161 145 125 111 71 43 45 54 56 52 57 27 19 21 43 68 64 47 61 88 113 134 148 158 165 172 173 177 178 179 179 184 201 210 209 203 201 197 189 192 191 184 186 192 186 180 172 164 157 140 124 108 64 41 51 57 57 52 56 23 20 27 49 73 68 50 59 85 108 127 141 151 157 161 165 169 172 173 176 184 196 204 206 204 194 181 175 170 149 141 146 160 173 175 169 162 157 141 122 97 57 45 58 60 58 54 55 22 22 33 56 78 74 51 53 81 104 122 135 145 153 158 162 165 167 168 172 180 187 190 186 166 137 119 109 107 99 96 96 103 136 164 172 167 157 139 116 81 51 47 61 61 58 56 57 24 27 42 66 85 81 51 46 75 100 118 131 142 152 158 162 165 167 166 167 171 166 152 132 100 92 100 101 107 111 95 84 63 106 157 171 170 158 134 103 63 48 53 64 63 60 58 58 26 36 54 74 88 85 52 38 64 89 110 125 138 149 157 163 165 165 164 161 160 122 85 83 96 115 142 148 147 149 134 114 97 141 164 165 164 155 125 86 48 49 61 69 69 67 65 62 32 46 66 82 89 87 53 31 52 76 98 115 129 141 151 158 163 163 163 160 154 115 90 111 141 157 165 162 157 161 163 160 163 169 166 160 156 143 113 69 43 52 65 73 75 72 72 71 41 55 73 87 93 90 55 25 39 64 84 101 117 129 138 149 156 160 160 158 160 171 169 167 176 182 188 194 187 185 182 172 151 136 151 156 147 125 94 55 50 59 67 75 78 73 72 75 49 65 80 88 91 93 63 23 26 51 70 87 102 114 124 134 143 147 151 153 164 175 171 158 154 157 167 177 170 166 160 141 113 116 144 149 135 113 73 47 56 63 68 79 80 74 71 74 57 72 85 88 87 92 72 28 16 35 55 73 89 101 111 119 127 135 141 149 160 168 165 144 126 116 114 114 114 116 114 103 105 133 146 138 123 94 55 50 60 64 69 80 76 72 69 71 64 75 86 89 86 90 75 35 14 20 39 59 75 89 100 108 116 128 142 152 160 167 167 159 142 127 115 101 103 107 113 124 146 157 147 128 103 58 45 58 65 66 69 78 72 67 62 62 68 77 87 89 85 87 73 39 18 14 23 40 58 74 89 102 114 129 145 157 163 168 173 176 174 172 170 163 168 171 172 174 173 161 145 117 69 30 45 57 70 70 69 82 79 70 60 57 71 80 90 89 81 84 70 38 21 17 18 25 41 57 72 91 107 124 140 155 164 169 175 181 185 191 194 197 194 191 187 180 167 151 129 83 34 27 47 53 73 73 74 87 85 74 62 57 75 84 92 89 81 85 68 34 19 17 19 21 30 39 49 67 86 106 124 142 155 162 168 175 180 181 178 182 176 172 169 161 148 128 92 37 21 36 48 55 71 73 79 89 86 77 65 60 79 87 94 92 82 85 69 32 15 13 17 21 27 29 33 42 58 78 95 114 130 140 149 156 159 161 156 155 147 143 141 125 110 83 40 11 23 41 50 56 68 68 77 87 85 78 67 62 80 89 96 94 82 83 71 36 15 11 14 21 26 28 31 33 38 46 59 73 88 101 113 122 125 125 124 120 113 107 102 80 64 38 12 12 27 45 52 60 71 67 74 86 84 75 64 60 78 89 96 93 81 80 73 41 19 14 13 21 27 29 34 36 36 37 43 47 55 63 72 79 82 84 84 84 79 70 61 42 32 21 13 17 33 47 55 67 78 69 68 81 79 71 63 62\"\n        ],\n        \"semantic_type\": \"\",\n        \"description\": \"\"\n      }\n    },\n    {\n      \"column\": \"Usage\",\n      \"properties\": {\n        \"dtype\": \"category\",\n        \"num_unique_values\": 3,\n        \"samples\": [\n          \"Training\"\n        ],\n        \"semantic_type\": \"\",\n        \"description\": \"\"\n      }\n    }\n  ]\n}"
            }
          },
          "metadata": {},
          "execution_count": 9
        }
      ]
    },
    {
      "cell_type": "code",
      "source": [
        "data_fer.info()"
      ],
      "metadata": {
        "colab": {
          "base_uri": "https://localhost:8080/"
        },
        "id": "rT5AAWe1g_Cq",
        "outputId": "612e2c43-cc0e-4791-fa56-86f0d631a00a"
      },
      "execution_count": 10,
      "outputs": [
        {
          "output_type": "stream",
          "name": "stdout",
          "text": [
            "<class 'pandas.core.frame.DataFrame'>\n",
            "RangeIndex: 35887 entries, 0 to 35886\n",
            "Data columns (total 3 columns):\n",
            " #   Column   Non-Null Count  Dtype \n",
            "---  ------   --------------  ----- \n",
            " 0   emotion  35887 non-null  int64 \n",
            " 1   pixels   35887 non-null  object\n",
            " 2   Usage    35887 non-null  object\n",
            "dtypes: int64(1), object(2)\n",
            "memory usage: 841.2+ KB\n"
          ]
        }
      ]
    },
    {
      "cell_type": "code",
      "source": [
        "data_ck.info()"
      ],
      "metadata": {
        "colab": {
          "base_uri": "https://localhost:8080/"
        },
        "id": "B90ZxAAkg7_u",
        "outputId": "01495f1f-29c5-41b1-b745-2d8e1ca32d1e"
      },
      "execution_count": 11,
      "outputs": [
        {
          "output_type": "stream",
          "name": "stdout",
          "text": [
            "<class 'pandas.core.frame.DataFrame'>\n",
            "RangeIndex: 920 entries, 0 to 919\n",
            "Data columns (total 3 columns):\n",
            " #   Column   Non-Null Count  Dtype \n",
            "---  ------   --------------  ----- \n",
            " 0   emotion  920 non-null    int64 \n",
            " 1   pixels   920 non-null    object\n",
            " 2   Usage    920 non-null    object\n",
            "dtypes: int64(1), object(2)\n",
            "memory usage: 21.7+ KB\n"
          ]
        }
      ]
    },
    {
      "cell_type": "code",
      "source": [
        "data_laugh.info()"
      ],
      "metadata": {
        "id": "0CZaZFALnk0j",
        "colab": {
          "base_uri": "https://localhost:8080/"
        },
        "outputId": "324af7d5-f1fd-4bf9-cd44-edaade511472"
      },
      "execution_count": 12,
      "outputs": [
        {
          "output_type": "stream",
          "name": "stdout",
          "text": [
            "<class 'pandas.core.frame.DataFrame'>\n",
            "RangeIndex: 20 entries, 0 to 19\n",
            "Data columns (total 3 columns):\n",
            " #   Column   Non-Null Count  Dtype \n",
            "---  ------   --------------  ----- \n",
            " 0   emotion  20 non-null     int64 \n",
            " 1   pixels   20 non-null     object\n",
            " 2   Usage    20 non-null     object\n",
            "dtypes: int64(1), object(2)\n",
            "memory usage: 608.0+ bytes\n"
          ]
        }
      ]
    },
    {
      "cell_type": "code",
      "source": [
        "data_confused.info()"
      ],
      "metadata": {
        "colab": {
          "base_uri": "https://localhost:8080/"
        },
        "id": "e0HUHeAysNSV",
        "outputId": "605b23ba-a1ae-4206-93ed-719a393fcd37"
      },
      "execution_count": 13,
      "outputs": [
        {
          "output_type": "stream",
          "name": "stdout",
          "text": [
            "<class 'pandas.core.frame.DataFrame'>\n",
            "RangeIndex: 30 entries, 0 to 29\n",
            "Data columns (total 3 columns):\n",
            " #   Column   Non-Null Count  Dtype \n",
            "---  ------   --------------  ----- \n",
            " 0   emotion  30 non-null     int64 \n",
            " 1   pixels   30 non-null     object\n",
            " 2   Usage    30 non-null     object\n",
            "dtypes: int64(1), object(2)\n",
            "memory usage: 848.0+ bytes\n"
          ]
        }
      ]
    },
    {
      "cell_type": "code",
      "source": [
        "data_ck['emotion'] = 9  # Örnek olarak 9(Contempt) numaralı kategori olarak tanımlanmıştır\n",
        "data_laugh['emotion'] = 7\n",
        "data_confused['emotion'] = 8\n",
        "\n",
        "# Veri setlerini birleştirme işlemi\n",
        "df = pd.concat([data_fer, data_ck[['emotion', 'pixels', 'Usage']]])\n",
        "df = pd.concat([df, data_laugh[['emotion', 'pixels', 'Usage']]])\n",
        "df = pd.concat([df, data_confused[['emotion', 'pixels', 'Usage']]])\n",
        "df.head()"
      ],
      "metadata": {
        "colab": {
          "base_uri": "https://localhost:8080/",
          "height": 204
        },
        "id": "sbMoQM64hLYa",
        "outputId": "ef0baf65-e67f-45dc-f8fe-04ad8b2a9237"
      },
      "execution_count": 14,
      "outputs": [
        {
          "output_type": "execute_result",
          "data": {
            "text/plain": [
              "   emotion                                             pixels     Usage\n",
              "0        0  70 80 82 72 58 58 60 63 54 58 60 48 89 115 121...  Training\n",
              "1        0  151 150 147 155 148 133 111 140 170 174 182 15...  Training\n",
              "2        2  231 212 156 164 174 138 161 173 182 200 106 38...  Training\n",
              "3        4  24 32 36 30 32 23 19 20 30 41 21 22 32 34 21 1...  Training\n",
              "4        6  4 0 0 0 0 0 0 0 0 0 0 0 3 15 23 28 48 50 58 84...  Training"
            ],
            "text/html": [
              "\n",
              "  <div id=\"df-06621fb0-cec0-4b6d-b5e8-4ea9a6bce242\" class=\"colab-df-container\">\n",
              "    <div>\n",
              "<style scoped>\n",
              "    .dataframe tbody tr th:only-of-type {\n",
              "        vertical-align: middle;\n",
              "    }\n",
              "\n",
              "    .dataframe tbody tr th {\n",
              "        vertical-align: top;\n",
              "    }\n",
              "\n",
              "    .dataframe thead th {\n",
              "        text-align: right;\n",
              "    }\n",
              "</style>\n",
              "<table border=\"1\" class=\"dataframe\">\n",
              "  <thead>\n",
              "    <tr style=\"text-align: right;\">\n",
              "      <th></th>\n",
              "      <th>emotion</th>\n",
              "      <th>pixels</th>\n",
              "      <th>Usage</th>\n",
              "    </tr>\n",
              "  </thead>\n",
              "  <tbody>\n",
              "    <tr>\n",
              "      <th>0</th>\n",
              "      <td>0</td>\n",
              "      <td>70 80 82 72 58 58 60 63 54 58 60 48 89 115 121...</td>\n",
              "      <td>Training</td>\n",
              "    </tr>\n",
              "    <tr>\n",
              "      <th>1</th>\n",
              "      <td>0</td>\n",
              "      <td>151 150 147 155 148 133 111 140 170 174 182 15...</td>\n",
              "      <td>Training</td>\n",
              "    </tr>\n",
              "    <tr>\n",
              "      <th>2</th>\n",
              "      <td>2</td>\n",
              "      <td>231 212 156 164 174 138 161 173 182 200 106 38...</td>\n",
              "      <td>Training</td>\n",
              "    </tr>\n",
              "    <tr>\n",
              "      <th>3</th>\n",
              "      <td>4</td>\n",
              "      <td>24 32 36 30 32 23 19 20 30 41 21 22 32 34 21 1...</td>\n",
              "      <td>Training</td>\n",
              "    </tr>\n",
              "    <tr>\n",
              "      <th>4</th>\n",
              "      <td>6</td>\n",
              "      <td>4 0 0 0 0 0 0 0 0 0 0 0 3 15 23 28 48 50 58 84...</td>\n",
              "      <td>Training</td>\n",
              "    </tr>\n",
              "  </tbody>\n",
              "</table>\n",
              "</div>\n",
              "    <div class=\"colab-df-buttons\">\n",
              "\n",
              "  <div class=\"colab-df-container\">\n",
              "    <button class=\"colab-df-convert\" onclick=\"convertToInteractive('df-06621fb0-cec0-4b6d-b5e8-4ea9a6bce242')\"\n",
              "            title=\"Convert this dataframe to an interactive table.\"\n",
              "            style=\"display:none;\">\n",
              "\n",
              "  <svg xmlns=\"http://www.w3.org/2000/svg\" height=\"24px\" viewBox=\"0 -960 960 960\">\n",
              "    <path d=\"M120-120v-720h720v720H120Zm60-500h600v-160H180v160Zm220 220h160v-160H400v160Zm0 220h160v-160H400v160ZM180-400h160v-160H180v160Zm440 0h160v-160H620v160ZM180-180h160v-160H180v160Zm440 0h160v-160H620v160Z\"/>\n",
              "  </svg>\n",
              "    </button>\n",
              "\n",
              "  <style>\n",
              "    .colab-df-container {\n",
              "      display:flex;\n",
              "      gap: 12px;\n",
              "    }\n",
              "\n",
              "    .colab-df-convert {\n",
              "      background-color: #E8F0FE;\n",
              "      border: none;\n",
              "      border-radius: 50%;\n",
              "      cursor: pointer;\n",
              "      display: none;\n",
              "      fill: #1967D2;\n",
              "      height: 32px;\n",
              "      padding: 0 0 0 0;\n",
              "      width: 32px;\n",
              "    }\n",
              "\n",
              "    .colab-df-convert:hover {\n",
              "      background-color: #E2EBFA;\n",
              "      box-shadow: 0px 1px 2px rgba(60, 64, 67, 0.3), 0px 1px 3px 1px rgba(60, 64, 67, 0.15);\n",
              "      fill: #174EA6;\n",
              "    }\n",
              "\n",
              "    .colab-df-buttons div {\n",
              "      margin-bottom: 4px;\n",
              "    }\n",
              "\n",
              "    [theme=dark] .colab-df-convert {\n",
              "      background-color: #3B4455;\n",
              "      fill: #D2E3FC;\n",
              "    }\n",
              "\n",
              "    [theme=dark] .colab-df-convert:hover {\n",
              "      background-color: #434B5C;\n",
              "      box-shadow: 0px 1px 3px 1px rgba(0, 0, 0, 0.15);\n",
              "      filter: drop-shadow(0px 1px 2px rgba(0, 0, 0, 0.3));\n",
              "      fill: #FFFFFF;\n",
              "    }\n",
              "  </style>\n",
              "\n",
              "    <script>\n",
              "      const buttonEl =\n",
              "        document.querySelector('#df-06621fb0-cec0-4b6d-b5e8-4ea9a6bce242 button.colab-df-convert');\n",
              "      buttonEl.style.display =\n",
              "        google.colab.kernel.accessAllowed ? 'block' : 'none';\n",
              "\n",
              "      async function convertToInteractive(key) {\n",
              "        const element = document.querySelector('#df-06621fb0-cec0-4b6d-b5e8-4ea9a6bce242');\n",
              "        const dataTable =\n",
              "          await google.colab.kernel.invokeFunction('convertToInteractive',\n",
              "                                                    [key], {});\n",
              "        if (!dataTable) return;\n",
              "\n",
              "        const docLinkHtml = 'Like what you see? Visit the ' +\n",
              "          '<a target=\"_blank\" href=https://colab.research.google.com/notebooks/data_table.ipynb>data table notebook</a>'\n",
              "          + ' to learn more about interactive tables.';\n",
              "        element.innerHTML = '';\n",
              "        dataTable['output_type'] = 'display_data';\n",
              "        await google.colab.output.renderOutput(dataTable, element);\n",
              "        const docLink = document.createElement('div');\n",
              "        docLink.innerHTML = docLinkHtml;\n",
              "        element.appendChild(docLink);\n",
              "      }\n",
              "    </script>\n",
              "  </div>\n",
              "\n",
              "\n",
              "<div id=\"df-e039630b-4db6-480a-a3be-dc878f6f5616\">\n",
              "  <button class=\"colab-df-quickchart\" onclick=\"quickchart('df-e039630b-4db6-480a-a3be-dc878f6f5616')\"\n",
              "            title=\"Suggest charts\"\n",
              "            style=\"display:none;\">\n",
              "\n",
              "<svg xmlns=\"http://www.w3.org/2000/svg\" height=\"24px\"viewBox=\"0 0 24 24\"\n",
              "     width=\"24px\">\n",
              "    <g>\n",
              "        <path d=\"M19 3H5c-1.1 0-2 .9-2 2v14c0 1.1.9 2 2 2h14c1.1 0 2-.9 2-2V5c0-1.1-.9-2-2-2zM9 17H7v-7h2v7zm4 0h-2V7h2v10zm4 0h-2v-4h2v4z\"/>\n",
              "    </g>\n",
              "</svg>\n",
              "  </button>\n",
              "\n",
              "<style>\n",
              "  .colab-df-quickchart {\n",
              "      --bg-color: #E8F0FE;\n",
              "      --fill-color: #1967D2;\n",
              "      --hover-bg-color: #E2EBFA;\n",
              "      --hover-fill-color: #174EA6;\n",
              "      --disabled-fill-color: #AAA;\n",
              "      --disabled-bg-color: #DDD;\n",
              "  }\n",
              "\n",
              "  [theme=dark] .colab-df-quickchart {\n",
              "      --bg-color: #3B4455;\n",
              "      --fill-color: #D2E3FC;\n",
              "      --hover-bg-color: #434B5C;\n",
              "      --hover-fill-color: #FFFFFF;\n",
              "      --disabled-bg-color: #3B4455;\n",
              "      --disabled-fill-color: #666;\n",
              "  }\n",
              "\n",
              "  .colab-df-quickchart {\n",
              "    background-color: var(--bg-color);\n",
              "    border: none;\n",
              "    border-radius: 50%;\n",
              "    cursor: pointer;\n",
              "    display: none;\n",
              "    fill: var(--fill-color);\n",
              "    height: 32px;\n",
              "    padding: 0;\n",
              "    width: 32px;\n",
              "  }\n",
              "\n",
              "  .colab-df-quickchart:hover {\n",
              "    background-color: var(--hover-bg-color);\n",
              "    box-shadow: 0 1px 2px rgba(60, 64, 67, 0.3), 0 1px 3px 1px rgba(60, 64, 67, 0.15);\n",
              "    fill: var(--button-hover-fill-color);\n",
              "  }\n",
              "\n",
              "  .colab-df-quickchart-complete:disabled,\n",
              "  .colab-df-quickchart-complete:disabled:hover {\n",
              "    background-color: var(--disabled-bg-color);\n",
              "    fill: var(--disabled-fill-color);\n",
              "    box-shadow: none;\n",
              "  }\n",
              "\n",
              "  .colab-df-spinner {\n",
              "    border: 2px solid var(--fill-color);\n",
              "    border-color: transparent;\n",
              "    border-bottom-color: var(--fill-color);\n",
              "    animation:\n",
              "      spin 1s steps(1) infinite;\n",
              "  }\n",
              "\n",
              "  @keyframes spin {\n",
              "    0% {\n",
              "      border-color: transparent;\n",
              "      border-bottom-color: var(--fill-color);\n",
              "      border-left-color: var(--fill-color);\n",
              "    }\n",
              "    20% {\n",
              "      border-color: transparent;\n",
              "      border-left-color: var(--fill-color);\n",
              "      border-top-color: var(--fill-color);\n",
              "    }\n",
              "    30% {\n",
              "      border-color: transparent;\n",
              "      border-left-color: var(--fill-color);\n",
              "      border-top-color: var(--fill-color);\n",
              "      border-right-color: var(--fill-color);\n",
              "    }\n",
              "    40% {\n",
              "      border-color: transparent;\n",
              "      border-right-color: var(--fill-color);\n",
              "      border-top-color: var(--fill-color);\n",
              "    }\n",
              "    60% {\n",
              "      border-color: transparent;\n",
              "      border-right-color: var(--fill-color);\n",
              "    }\n",
              "    80% {\n",
              "      border-color: transparent;\n",
              "      border-right-color: var(--fill-color);\n",
              "      border-bottom-color: var(--fill-color);\n",
              "    }\n",
              "    90% {\n",
              "      border-color: transparent;\n",
              "      border-bottom-color: var(--fill-color);\n",
              "    }\n",
              "  }\n",
              "</style>\n",
              "\n",
              "  <script>\n",
              "    async function quickchart(key) {\n",
              "      const quickchartButtonEl =\n",
              "        document.querySelector('#' + key + ' button');\n",
              "      quickchartButtonEl.disabled = true;  // To prevent multiple clicks.\n",
              "      quickchartButtonEl.classList.add('colab-df-spinner');\n",
              "      try {\n",
              "        const charts = await google.colab.kernel.invokeFunction(\n",
              "            'suggestCharts', [key], {});\n",
              "      } catch (error) {\n",
              "        console.error('Error during call to suggestCharts:', error);\n",
              "      }\n",
              "      quickchartButtonEl.classList.remove('colab-df-spinner');\n",
              "      quickchartButtonEl.classList.add('colab-df-quickchart-complete');\n",
              "    }\n",
              "    (() => {\n",
              "      let quickchartButtonEl =\n",
              "        document.querySelector('#df-e039630b-4db6-480a-a3be-dc878f6f5616 button');\n",
              "      quickchartButtonEl.style.display =\n",
              "        google.colab.kernel.accessAllowed ? 'block' : 'none';\n",
              "    })();\n",
              "  </script>\n",
              "</div>\n",
              "\n",
              "    </div>\n",
              "  </div>\n"
            ],
            "application/vnd.google.colaboratory.intrinsic+json": {
              "type": "dataframe",
              "variable_name": "df",
              "summary": "{\n  \"name\": \"df\",\n  \"rows\": 36857,\n  \"fields\": [\n    {\n      \"column\": \"emotion\",\n      \"properties\": {\n        \"dtype\": \"number\",\n        \"std\": 2,\n        \"min\": 0,\n        \"max\": 9,\n        \"num_unique_values\": 10,\n        \"samples\": [\n          7,\n          2,\n          5\n        ],\n        \"semantic_type\": \"\",\n        \"description\": \"\"\n      }\n    },\n    {\n      \"column\": \"pixels\",\n      \"properties\": {\n        \"dtype\": \"string\",\n        \"num_unique_values\": 35004,\n        \"samples\": [\n          \"57 68 52 69 47 42 74 84 78 108 100 106 158 190 214 180 163 164 183 175 154 147 165 133 107 139 179 138 130 131 179 201 179 159 139 129 126 152 131 77 26 45 42 5 23 52 47 59 52 77 61 75 53 50 84 99 92 98 91 161 216 199 182 183 191 207 157 129 133 150 145 179 197 153 65 80 116 109 157 214 223 206 200 194 186 184 186 181 85 46 51 24 44 63 58 62 51 77 71 70 46 43 82 154 142 117 175 210 225 164 137 181 205 155 172 158 152 176 185 179 175 124 111 132 154 107 140 183 206 222 213 200 211 200 187 188 164 84 60 49 61 62 68 63 55 65 77 72 42 57 142 214 210 208 204 209 177 148 150 187 176 171 238 164 149 188 216 173 145 216 200 148 133 140 144 176 159 180 203 200 190 159 150 188 178 118 49 20 31 58 62 63 60 65 92 73 84 160 197 223 223 230 198 177 155 160 153 189 118 183 209 150 161 193 196 198 197 188 189 200 179 161 151 166 168 136 93 138 159 148 73 111 190 133 63 43 38 53 49 60 55 72 87 118 163 172 208 208 166 188 190 176 194 190 163 163 177 184 155 187 176 175 187 202 181 178 179 139 133 138 120 139 106 86 96 135 130 123 149 61 114 176 72 38 44 55 54 56 56 69 122 155 158 193 167 167 189 208 171 177 231 204 161 152 222 190 105 190 174 211 205 182 166 158 110 82 114 131 115 88 68 74 82 146 183 137 157 153 59 148 138 46 48 57 71 56 55 99 134 148 161 117 97 112 159 191 136 196 229 185 172 168 230 181 121 165 185 169 159 132 143 144 142 147 131 115 105 79 76 36 57 131 169 184 118 133 108 88 111 80 33 58 72 51 65 113 145 137 81 62 90 99 166 150 122 212 198 202 187 219 219 158 151 166 114 144 142 121 141 92 138 140 138 90 68 45 39 54 93 133 147 100 67 95 82 68 68 78 67 60 64 49 80 112 125 88 48 79 110 137 139 94 165 208 207 188 194 221 201 116 133 184 99 101 102 174 128 114 146 150 131 81 56 45 47 57 88 98 96 66 106 139 91 55 58 54 57 58 65 46 107 125 90 61 50 125 140 108 68 145 201 201 195 176 195 209 171 56 169 189 137 114 138 176 84 127 156 110 88 90 101 104 126 116 128 136 133 100 151 153 130 78 43 59 50 63 68 47 97 157 125 72 144 182 153 107 155 198 201 211 179 195 198 215 94 60 190 141 165 159 184 143 103 166 159 142 158 109 134 198 227 191 147 155 173 134 130 154 121 115 40 64 71 85 73 43 82 137 127 165 202 174 164 177 175 165 188 183 170 177 196 168 26 126 166 145 158 176 148 104 97 128 102 108 166 154 157 202 222 212 156 113 123 131 120 134 99 118 65 75 110 103 70 38 104 127 130 185 185 188 183 158 143 156 179 157 167 166 186 62 46 141 169 158 170 132 76 73 90 117 122 86 131 152 168 182 205 188 173 129 91 92 110 104 79 73 70 61 123 97 62 36 89 152 171 171 184 170 185 163 193 204 145 135 176 178 109 30 89 156 173 166 122 58 89 83 99 112 127 96 151 152 169 191 196 160 132 122 102 75 94 80 45 59 73 57 102 104 69 32 114 169 180 124 148 156 201 239 188 124 104 111 164 157 57 106 166 168 145 140 121 122 114 126 106 120 108 111 202 203 168 181 189 160 144 121 104 63 65 58 33 51 82 72 89 117 96 50 157 167 153 154 121 108 145 177 95 95 116 142 142 74 104 162 125 101 113 103 116 124 120 122 109 135 99 176 225 222 187 191 178 177 172 141 120 78 48 39 22 30 71 99 93 110 103 49 135 167 145 160 163 125 112 82 122 214 168 129 56 69 100 92 69 87 84 86 90 74 103 105 126 114 140 202 221 228 206 179 116 115 154 130 110 79 29 26 20 48 82 105 76 123 98 100 88 127 158 174 167 117 95 84 128 178 160 84 79 112 127 100 107 139 145 132 89 109 111 111 125 153 192 215 226 215 215 187 115 61 68 81 72 24 11 24 20 55 93 94 70 110 122 178 80 97 137 172 150 101 119 137 127 99 99 94 70 75 110 127 146 167 145 116 124 108 105 166 200 218 232 243 242 226 186 183 136 61 43 44 26 4 26 20 18 61 96 94 77 83 120 131 123 158 153 132 123 76 124 230 146 59 84 88 86 70 74 107 142 144 131 143 130 149 214 234 239 247 252 253 252 255 214 121 109 91 56 36 17 25 29 15 39 81 91 93 73 70 102 147 162 184 198 136 99 73 114 249 190 60 49 66 92 90 96 115 117 107 124 135 174 228 245 248 248 251 251 251 252 252 236 159 104 63 23 16 20 17 14 36 82 86 88 93 57 89 165 172 164 194 225 140 93 72 105 232 195 167 99 72 89 83 105 95 85 109 153 198 233 245 250 249 249 251 253 254 244 228 219 185 111 79 46 20 15 26 55 90 101 88 86 94 49 72 152 169 169 204 207 138 92 107 100 204 235 244 220 107 118 111 132 108 118 162 212 231 244 251 252 251 250 250 240 222 218 219 205 187 160 113 92 86 91 96 113 117 112 92 84 87 40 71 98 94 172 173 181 93 98 121 72 105 248 244 239 176 153 122 136 140 150 196 226 239 251 252 253 252 252 250 239 209 175 148 118 144 149 132 128 131 139 135 136 134 119 101 81 64 60 63 105 131 161 160 152 69 93 120 91 65 160 223 222 212 174 124 145 168 176 208 225 240 252 254 255 255 254 251 241 228 217 216 149 87 93 93 100 119 145 154 150 138 121 112 106 50 37 35 68 128 179 130 111 51 95 116 82 112 166 188 176 155 134 160 175 190 200 218 231 241 252 254 255 255 253 248 224 196 163 158 174 140 68 55 82 116 154 169 158 135 127 134 101 35 31 47 68 142 169 86 78 85 107 95 136 144 200 223 187 168 166 200 222 219 217 232 244 246 252 254 255 255 254 250 228 199 165 109 112 136 120 69 81 127 168 171 150 139 150 138 81 31 44 48 80 163 130 83 66 80 78 114 166 167 223 247 234 229 225 231 245 245 241 246 251 251 253 255 255 255 254 252 247 222 183 111 80 94 91 85 100 143 174 162 137 141 153 125 40 66 81 54 80 135 104 73 76 74 29 91 166 194 240 252 248 245 243 248 252 252 252 252 252 252 253 254 254 254 253 252 250 225 194 141 84 80 84 101 117 149 168 142 101 100 147 98 28 58 58 66 76 106 93 77 86 80 23 80 174 224 248 252 251 250 251 251 252 252 252 252 252 252 252 252 251 248 249 248 236 213 186 149 106 110 119 134 143 158 164 109 57 103 123 41 76 99 122 147 151 118 92 121 112 96 99 122 191 247 251 252 251 250 251 252 252 252 252 252 251 251 250 245 236 232 230 224 214 195 166 133 110 119 141 160 166 166 160 101 36 88 148 154 165 155 130 93 67 35 25 103 130 118 93 96 207 253 251 251 250 251 252 252 253 253 252 251 250 249 241 231 219 214 205 192 192 178 153 122 97 121 163 185 196 187 168 120 105 92 99 74 52 28 11 0 3 3 3 21 101 141 66 87 226 254 252 251 250 252 252 252 252 252 251 249 246 237 226 215 209 206 188 173 160 138 112 89 90 153 228 220 194 207 183 140 111 33 11 8 2 0 2 0 7 3 3 0 12 64 68 143 245 252 251 251 250 251 251 252 252 250 248 244 239 226 217 206 204 192 167 129 114 114 102 110 119 149 179 192 204 201 193 133 26 0 2 10 1 2 8 1 9 5 1 0 6 11 72 221 252 251 252 250 248 250 251 250 250 248 239 234 226 217 210 203 192 174 126 79 116 128 139 134 133 148 164 126 126 190 181 117 14 8 2 12 4 2 12 4 9 8 6 4 17 17 118 255 249 252 251 248 244 243 244 242 246 246 238 226 216 210 204 197 182 146 103 70 123 138 125 117 132 145 154 155 159 177 175 97 3 15 3 14 7 2 16 10 11 11 0 2 12 42 188 255 249 252 251 244 236 230 230 233 237 240 237 227 217 204 195 191 169 120 134 78 48 190 133 129 102 119 116 120 137 126 136 49 2 22 7 13 9 5 21 13 11 13 83 129 167 192 242 255 252 252 251 244 230 221 215 220 227 234 234 226 218 204 198 194 164 130 152 129 102 57 115 213 112 96 110 102 99 112 119 19 10 23 11 15 13 7 22 15 13 17 198 170 129 118 248 255 253 253 252 245 229 220 212 208 209 223 227 227 219 208 205 201 177 150 157 170 114 162 126 117 190 125 87 104 119 141 66 2 16 25 14 15 15 9 22 18 15 17 29 19 0 99 255 252 254 253 251 242 230 223 220 209 195 197 219 225 219 208 208 211 191 162 163 190 139 104 138 107 85 130 75 117 117 50 10 11 16 27 16 15 16 10 23 22 15 19 27 17 1 191 255 252 254 253 251 243 229 222 221 220 206 177 191 217 215 207 207 214 203 182 173 181 174 107 82 58 27 87 129 85 18 7 20 13 20 30 18 15 16 10 24 23 14 19 41 4 68 255 252 253 254 253 250 241 229 223 219 218 210 189 164 192 210 199 202 212 206 193 173 157 159 143 98 74 99 124 61 17 20 16 18 15 19 31 21 16 16 10 26 25 13 18 23 29 200 255 249 249 254 253 251 238 225 222 220 211 204 189 164 150 194 201 194 212 205 187 169 152 132 145 144 110 80 24 7 28 22 15 18 14 17 30 24 14 14 11 26 25 13 20 164 218 255 253 252 250 254 253 251 239 223 215 214 209 194 173 153 134 145 200 196 209 210 184 172 155 126 120 135 118 83 69 33 12 18 19 19 19 21 29 23 14 14 11 25 25 13 22 255 254 254 255 254 254 254 254 251 238 225 216 205 196 185 162 143 128 108 120 186 209 213 196 182 154 131 125 126 98 148 157 145 109 29 0 9 22 26 34 27 12 14 11 28 29 13 24 252 253 255 255 255 255 255 254 250 235 222 212 199 185 171 162 159 161 156 129 114 154 190 197 191 172 157 124 146 119 123 148 127 169 186 123 60 17 14 37 29 13 15 11 29 30 14 27 255 255 255 255 255 255 255 254 250 237 223 207 188 173 164 165 168 173 171 157 124 77 88 158 158 173 150 59 99 115 127 162 138 145 179 225 231 184 88 29 26 14 16 12 28 31 16 31\",\n          \"255 255 255 255 255 255 254 253 228 187 159 191 193 183 199 220 212 202 189 170 170 169 198 186 169 168 168 150 131 122 83 76 64 55 68 65 76 104 112 111 154 216 255 254 255 255 255 254 254 255 255 254 254 254 255 239 210 176 159 206 207 193 216 231 226 217 204 187 188 176 186 194 173 164 169 159 134 125 99 82 82 57 62 74 73 91 124 128 148 172 247 255 255 255 255 254 254 254 254 255 254 255 249 222 195 136 130 221 213 197 226 233 230 217 208 195 196 176 178 184 170 166 171 157 138 115 110 91 90 78 55 72 88 88 120 145 159 154 212 255 253 254 255 254 254 255 255 255 255 255 240 214 161 68 120 220 209 198 219 230 220 209 202 185 188 180 167 175 171 156 161 150 136 110 100 100 94 86 56 62 79 87 105 135 150 156 182 247 255 255 255 255 254 255 255 255 254 252 244 230 130 55 132 211 190 189 205 221 209 203 196 177 181 185 162 167 172 156 146 146 133 105 93 99 94 91 50 48 69 80 97 134 151 153 196 242 255 255 255 255 254 255 254 254 251 247 246 211 79 82 167 205 175 186 193 212 202 194 212 199 195 189 164 168 175 161 140 144 130 108 93 96 98 99 61 26 66 86 90 139 127 143 234 246 253 255 255 254 255 255 255 253 245 241 220 163 83 155 164 207 183 183 183 190 165 154 170 168 190 193 180 177 171 160 149 140 112 95 78 74 76 102 89 18 60 98 100 146 121 180 226 245 255 255 255 254 255 255 255 244 238 224 177 151 132 159 153 185 171 195 180 192 196 190 171 148 134 180 195 183 157 152 137 91 72 79 74 60 57 72 105 58 50 85 125 143 103 182 198 248 255 255 255 254 254 254 255 235 227 226 159 81 130 161 159 194 144 188 197 196 170 126 108 125 163 180 202 186 135 111 100 75 82 88 89 87 84 71 56 48 43 72 162 89 63 142 203 255 253 255 255 255 255 254 254 254 252 229 175 108 150 150 168 234 162 139 204 147 115 131 36 61 115 179 207 186 103 61 46 60 50 36 55 54 77 78 35 32 89 96 109 29 75 137 227 255 254 255 255 254 255 255 254 253 255 214 115 114 177 116 185 226 182 124 207 162 156 182 58 128 133 190 204 175 85 46 10 139 79 54 116 40 66 71 35 102 129 104 68 41 81 141 247 255 254 255 255 254 255 255 255 254 254 218 126 54 167 117 191 216 180 134 199 201 187 158 122 106 147 199 203 164 83 44 18 74 71 60 61 59 64 68 55 141 109 91 86 62 99 153 248 247 253 255 255 254 255 255 255 255 250 219 182 85 171 132 201 214 183 141 198 186 200 200 176 161 180 198 200 147 82 58 24 44 86 94 89 83 80 72 69 142 100 87 84 103 124 188 248 251 251 254 254 255 255 255 255 255 242 215 207 113 163 155 208 223 206 147 203 192 185 184 177 187 201 203 203 137 75 77 45 43 79 101 107 98 87 71 76 143 105 71 108 99 109 215 246 255 254 254 254 255 255 255 254 255 224 181 194 127 163 161 218 221 209 142 198 212 195 184 193 203 203 200 192 137 74 79 57 46 66 90 100 92 82 72 78 145 112 90 113 89 123 222 252 254 254 254 254 254 255 255 254 255 215 190 169 133 164 169 222 206 197 130 187 208 209 197 196 205 204 203 198 148 85 75 57 42 52 76 87 86 84 67 86 141 112 113 110 66 144 239 255 254 255 255 254 255 254 254 254 254 232 236 173 116 159 174 225 206 199 128 174 201 199 192 189 200 201 189 188 151 92 80 44 40 59 78 85 83 83 57 108 145 119 123 108 63 172 245 252 254 254 254 254 254 254 255 254 253 241 236 169 122 160 182 228 217 205 134 146 199 185 186 186 196 204 158 163 127 53 72 51 67 78 89 86 80 77 59 157 146 120 134 100 81 186 250 249 249 255 255 255 254 254 255 255 250 250 229 164 145 155 190 227 217 208 146 101 197 187 182 185 204 207 208 194 146 84 60 78 99 97 94 85 80 65 81 190 140 121 135 103 96 171 216 249 252 255 254 253 254 255 255 255 248 251 248 190 167 152 197 218 215 218 170 70 158 198 184 191 208 208 205 178 171 125 76 79 93 102 92 82 80 48 112 196 138 119 135 127 120 174 177 193 227 241 249 254 255 255 254 253 250 255 239 195 165 159 210 212 213 223 196 99 87 199 188 191 200 209 187 156 135 99 77 78 77 91 90 83 70 53 168 194 134 129 151 153 160 172 185 174 184 231 252 255 254 255 255 248 234 223 205 201 171 156 214 213 210 220 198 134 42 159 199 190 188 164 98 81 79 83 76 78 73 81 88 84 50 90 209 189 126 140 175 165 191 194 210 177 179 237 255 253 254 253 255 247 240 241 223 192 180 161 212 213 211 217 197 145 40 94 204 198 173 47 1 20 2 24 74 91 78 84 93 79 37 138 224 178 122 133 179 171 213 211 243 206 172 225 255 253 255 228 224 213 223 193 160 190 174 155 189 194 203 195 176 147 91 57 168 182 122 38 38 52 46 71 84 107 102 99 104 82 73 180 189 159 123 137 187 176 201 207 207 202 164 190 217 217 246 238 209 208 228 189 184 192 170 154 183 180 201 189 175 152 114 44 125 188 135 41 41 49 72 113 108 121 115 100 98 68 121 198 172 154 119 143 189 162 200 214 198 195 168 215 217 218 240 242 236 220 209 196 204 195 180 189 196 211 211 211 198 163 114 36 70 196 177 54 1 24 61 118 127 141 86 88 70 48 194 223 179 156 111 152 215 183 211 232 226 200 206 255 250 251 253 247 236 222 226 214 194 186 211 202 188 214 218 212 197 165 117 49 26 172 195 153 35 6 38 114 123 90 77 83 43 94 227 201 178 156 109 154 218 207 208 238 211 174 211 254 255 255 255 255 254 244 245 227 186 194 234 176 199 210 216 213 194 169 115 68 8 138 195 180 144 86 94 109 76 73 80 75 30 149 220 190 179 161 110 154 205 214 211 247 193 176 236 255 253 255 254 255 238 210 216 233 202 202 232 169 205 211 216 212 190 170 120 83 7 101 194 178 157 139 133 91 69 76 80 59 45 191 211 191 187 171 115 153 196 202 213 231 194 201 249 255 255 255 255 255 240 214 234 255 231 202 190 160 202 214 216 213 186 151 123 93 17 65 186 175 158 130 107 89 87 85 76 48 74 209 210 203 195 166 111 150 183 189 213 186 198 240 254 254 255 255 254 255 252 239 248 255 231 155 144 135 188 216 213 205 179 132 101 92 34 40 171 175 165 153 137 130 120 88 74 47 84 212 212 211 189 148 104 142 179 173 205 180 217 255 254 252 253 255 254 226 242 220 220 209 147 140 141 107 191 206 203 187 157 114 82 76 46 27 131 185 170 162 151 149 119 81 66 43 71 188 213 207 186 150 108 148 178 152 188 212 230 254 251 248 254 255 254 107 150 190 185 166 158 142 92 95 200 208 194 172 138 94 71 53 48 32 52 158 174 160 145 120 91 64 46 54 58 133 209 204 193 162 125 130 155 117 179 185 217 255 246 252 252 254 254 173 110 97 130 125 101 75 57 134 217 196 179 163 125 81 67 57 51 41 23 47 106 118 103 75 55 47 53 63 59 111 204 209 195 171 148 109 145 73 107 171 188 219 242 248 255 255 254 139 107 71 44 41 58 65 78 197 208 181 160 151 111 73 66 76 70 49 34 22 22 33 33 32 43 51 56 64 55 130 204 207 198 180 166 118 153 109 65 111 152 134 146 176 191 213 251 116 82 93 72 45 39 58 170 211 194 168 153 139 98 73 75 96 85 61 42 30 28 28 27 32 47 55 59 63 51 107 199 204 199 183 173 138 127 185 118 107 91 110 108 108 117 142 168 117 97 126 125 64 27 139 212 198 178 161 144 123 88 72 56 82 93 80 48 33 29 31 28 29 45 57 59 56 54 71 181 208 199 186 174 159 111 171 158 94 105 82 105 117 116 116 131 139 154 154 128 102 138 203 197 188 169 153 132 107 79 81 56 36 89 102 51 37 31 32 26 26 42 53 51 52 56 43 144 211 205 189 177 168 132 115 198 141 124 112 97 102 107 125 144 151 189 205 183 168 195 193 191 174 160 145 119 89 74 73 115 76 66 71 44 36 31 30 23 23 37 49 47 46 53 41 105 203 206 193 177 166 150 105 148 184 113 115 97 103 113 123 131 193 193 220 205 185 183 185 174 162 148 133 106 82 69 34 91 89 39 21 32 26 27 27 20 21 33 47 44 41 47 49 74 186 206 198 180 167 156 130 98 183 157 102 115 123 130 109 117 246 240 243 203 136 151 166 157 149 131 115 90 80 56 24 66 60 26 11 12 19 24 24 18 18 33 46 41 41 52 60 86 174 204 204 188 174 161 144 112 116 194 188 206 213 199 138 112 248 243 238 239 183 106 126 135 134 121 99 81 77 27 33 69 62 57 31 26 20 20 18 14 20 41 46 48 56 62 68 97 163 199 204 192 178 167 156 132 145 214 226 224 218 212 209 164 250 243 239 240 237 129 70 103 109 103 85 78 65 60 75 71 71 75 72 49 37 22 17 14 28 46 55 65 65 87 134 175 201 187 204 199 186 178 161 184 227 222 215 219 217 215 216 218 251 246 242 238 237 173 56 68 83 84 76 77 97 101 82 76 72 62 69 64 41 27 16 22 34 48 62 67 79 139 182 200 203 183 202 205 192 185 208 229 217 215 223 225 210 212 220 224 253 248 243 237 236 192 61 59 67 75 72 77 91 87 72 58 51 59 56 54 59 22 30 40 38 54 62 68 129 162 174 193 204 190 197 209 195 215 230 220 219 228 224 220 209 202 216 225 253 248 245 237 230 216 80 52 66 72 76 76 69 57 49 40 39 69 74 60 70 71 51 43 44 56 61 82 151 164 188 193 191 196 195 208 215 234 221 219 225 229 223 219 209 198 207 223 253 248 244 235 229 220 156 69 64 75 72 66 63 56 38 36 41 60 80 90 68 83 104 74 38 76 134 112 154 176 197 194 196 194 195 211 238 236 224 228 224 215 221 217 208 198 198 216 253 249 243 231 227 218 191 122 73 77 77 59 52 48 69 58 49 43 82 97 100 121 151 129 40 145 136 89 148 180 193 218 223 199 189 220 244 234 223 227 231 220 216 212 204 197 192 202\",\n          \"255 254 254 252 253 250 236 219 206 214 211 192 179 137 110 94 52 27 61 146 189 183 182 162 149 162 152 170 192 179 154 154 175 193 200 207 208 193 185 196 188 174 195 220 242 250 250 251 255 254 254 253 253 238 225 203 164 148 182 202 184 181 140 127 105 47 36 72 166 193 187 190 164 155 173 164 178 194 183 159 157 176 193 200 211 209 196 194 199 188 184 206 226 248 250 251 255 254 253 253 248 214 205 210 199 178 155 177 192 184 184 145 143 100 93 56 107 182 198 192 194 164 163 178 172 179 196 181 165 166 183 192 201 212 211 200 201 193 185 197 214 234 250 250 255 254 253 253 234 220 174 171 211 206 193 170 179 191 189 185 157 143 130 122 89 141 194 201 197 196 163 169 182 183 185 195 179 172 175 193 201 204 214 213 201 200 187 190 210 218 245 250 254 254 254 248 228 215 108 96 186 212 201 191 180 189 191 195 185 164 144 154 117 128 166 206 204 201 196 170 183 190 189 186 196 181 176 183 197 202 207 218 212 201 198 186 201 210 231 250 254 254 254 242 233 189 78 114 194 186 201 195 188 189 193 194 199 181 167 163 156 128 156 186 213 207 206 198 180 189 195 188 185 195 182 176 187 200 205 210 218 207 199 192 190 206 214 244 254 253 252 240 236 174 88 174 200 173 174 191 197 191 192 196 201 199 185 175 182 141 143 175 201 212 210 210 198 188 197 201 180 192 194 183 182 195 202 203 211 214 203 197 192 205 207 231 254 254 250 243 237 170 125 207 184 171 161 159 186 200 193 195 200 203 197 188 191 178 135 163 191 212 214 213 212 198 195 200 200 176 197 188 184 189 197 198 201 212 208 202 195 203 206 216 254 253 250 244 235 179 166 215 181 170 164 159 150 179 198 198 199 203 204 202 197 199 162 137 180 203 212 215 214 212 200 198 203 193 175 204 184 191 190 196 200 200 209 202 196 199 206 210 254 253 249 244 234 190 187 211 186 181 175 167 160 137 170 198 203 199 207 208 205 199 192 135 149 199 208 211 214 212 214 203 199 205 191 191 204 190 196 188 196 195 202 204 196 199 205 205 254 253 250 245 234 200 199 207 189 186 183 179 176 155 137 164 190 205 204 212 211 205 203 173 119 168 206 211 211 215 212 212 203 199 208 190 199 203 197 199 184 192 196 205 198 197 206 200 254 253 251 246 234 205 207 204 189 188 187 185 181 180 167 145 142 183 210 212 214 213 205 201 157 121 178 205 212 211 212 210 208 204 199 206 192 204 197 201 195 183 192 200 202 195 207 198 254 253 252 245 236 210 212 205 191 190 188 189 185 184 186 177 148 120 167 213 216 218 213 204 197 150 127 179 202 208 209 209 209 205 199 200 206 197 204 195 200 191 184 192 202 194 203 194 254 253 253 247 237 215 217 206 193 190 188 189 189 189 187 187 185 148 107 166 217 218 219 209 200 191 150 130 183 199 204 206 202 205 202 194 197 204 202 202 189 196 188 186 200 194 199 188 254 253 253 251 240 225 225 210 197 191 188 190 187 188 186 187 188 185 148 106 169 216 219 219 206 197 191 151 134 183 196 200 199 198 201 194 189 193 200 203 198 185 194 186 191 194 196 189 255 253 253 253 249 228 203 163 155 187 186 188 184 177 158 142 129 127 136 119 113 172 217 218 213 203 197 193 156 134 170 191 198 194 195 197 192 182 187 195 203 190 183 189 186 192 194 190 255 253 253 253 254 237 212 152 138 184 192 187 183 172 140 120 131 138 153 167 165 136 165 216 215 207 204 192 189 166 131 140 175 191 191 190 193 191 179 183 191 197 189 180 186 191 193 191 254 254 253 253 254 247 223 187 154 159 197 193 184 178 175 162 142 126 124 109 109 135 113 157 214 207 199 203 187 183 176 134 115 156 172 183 185 190 190 182 184 187 194 184 178 189 196 193 254 254 253 252 252 253 219 134 102 91 141 205 187 182 181 174 134 91 103 40 46 116 121 90 139 202 201 199 197 186 191 176 113 163 155 149 161 175 181 186 187 186 183 182 181 180 190 193 254 254 252 252 251 255 220 179 70 95 115 187 195 191 193 190 169 107 93 54 46 204 180 130 109 144 184 190 197 196 193 191 141 171 170 158 153 157 173 177 177 182 180 180 182 181 181 188 254 254 252 252 252 252 254 240 102 98 106 170 199 203 207 210 193 147 104 104 92 160 167 192 189 165 164 164 180 194 197 196 158 173 154 151 171 174 169 181 182 184 185 185 181 179 185 182 255 254 253 252 252 252 254 238 171 137 142 190 193 207 212 210 195 150 128 138 138 154 179 192 197 192 189 191 184 181 188 196 168 180 160 133 159 166 175 178 177 183 181 195 199 178 181 179 255 254 253 252 252 252 253 246 211 180 178 192 191 205 209 200 192 168 138 148 171 179 183 188 189 189 196 204 210 203 184 182 176 182 169 140 157 140 150 177 169 172 121 104 165 192 185 176 255 255 254 253 253 253 255 241 216 196 192 188 192 206 209 199 186 178 162 152 166 179 182 185 187 192 205 211 212 206 199 181 169 179 170 138 154 142 122 176 177 181 125 100 100 157 193 171 255 255 255 253 253 253 255 232 201 194 206 186 193 208 210 204 189 175 171 163 162 175 179 181 188 200 211 213 209 200 193 190 168 168 170 146 140 146 131 174 186 187 128 109 112 133 182 166 255 254 254 254 254 253 254 230 195 197 207 187 197 209 211 207 194 176 167 166 164 171 178 182 190 203 210 208 202 194 192 188 174 165 161 154 120 143 143 173 187 191 135 118 120 153 183 156 255 254 254 254 254 252 254 233 200 202 204 190 201 209 213 212 194 178 166 161 162 167 173 182 191 200 202 199 195 190 188 187 178 167 152 138 119 143 161 176 185 187 148 129 134 177 184 151 255 254 254 254 253 251 253 235 207 209 199 191 199 206 208 212 195 172 165 159 161 163 169 180 189 195 194 192 191 188 186 187 182 169 148 124 98 131 174 191 178 186 156 136 159 188 173 151 255 254 254 254 253 251 253 238 210 210 197 195 203 210 208 206 200 169 153 154 157 160 167 177 184 188 188 188 188 187 189 187 184 170 145 111 75 98 168 196 166 184 162 156 175 190 161 152 255 254 254 254 254 252 253 246 207 204 200 198 198 201 213 210 198 174 148 143 158 165 168 172 178 182 184 186 187 188 189 188 185 173 145 86 36 52 166 190 169 180 171 167 186 176 157 155 255 254 254 254 254 252 251 253 220 181 178 180 180 166 169 185 180 183 173 163 167 168 168 170 176 179 182 185 187 188 189 189 186 173 140 64 24 40 163 185 159 175 179 178 189 164 161 155 255 254 254 254 254 253 252 254 240 185 183 206 193 178 182 181 188 191 188 180 171 170 169 170 175 179 183 186 188 190 191 189 187 173 133 50 21 59 169 172 153 172 166 186 176 163 160 158 255 254 254 254 254 253 252 251 250 210 205 217 194 184 189 189 191 191 190 185 176 170 170 174 178 181 185 188 188 192 191 190 184 172 123 39 24 77 175 150 152 158 174 189 169 166 158 158 255 254 254 254 254 253 253 252 252 232 211 215 193 187 193 196 195 192 189 188 186 176 173 178 184 183 186 188 190 191 190 189 182 169 104 35 31 113 161 134 156 164 183 184 171 164 157 161 254 254 254 254 253 252 252 252 251 242 218 181 170 172 164 170 182 198 195 184 189 185 182 182 186 186 187 189 191 192 191 187 178 161 78 37 61 137 138 149 160 172 174 180 171 166 161 166 252 252 253 254 255 254 253 251 248 235 220 183 112 94 138 151 139 122 133 155 187 187 187 188 187 187 188 191 192 192 191 183 176 134 51 53 97 127 148 155 159 166 168 178 171 167 165 170 253 253 250 244 238 230 221 210 199 194 192 210 173 109 113 130 137 131 127 160 181 182 186 190 189 188 189 191 191 190 186 174 151 84 52 86 107 146 166 165 168 152 159 177 170 164 168 172 240 228 217 208 199 189 178 167 164 172 150 192 203 173 170 161 179 189 192 194 184 181 183 186 187 187 189 189 189 186 172 147 98 59 73 87 135 168 171 156 150 145 149 174 168 162 170 174 208 201 195 185 174 160 144 135 148 146 118 160 188 170 172 163 170 176 183 185 189 189 187 186 186 186 188 188 184 170 140 98 68 64 85 117 153 162 182 142 139 131 145 169 168 167 173 173 196 191 185 180 169 157 140 129 142 115 113 134 184 182 159 158 165 176 180 183 188 191 191 189 186 185 184 178 164 132 95 77 72 93 135 134 136 167 186 180 134 122 145 166 167 169 175 171 190 189 188 184 174 163 144 129 131 104 113 115 152 202 189 184 181 180 182 188 191 192 193 188 183 176 168 151 117 87 84 82 91 133 160 128 93 126 140 175 139 118 145 161 164 170 175 170 190 189 189 186 180 169 152 131 117 102 116 114 121 197 202 194 188 185 186 189 193 191 188 180 168 155 132 99 80 90 92 90 131 168 152 123 117 112 150 182 178 137 138 162 161 170 177 160 189 189 188 188 184 173 156 134 119 110 97 112 108 168 202 188 185 186 187 187 188 182 173 163 142 107 81 76 88 93 101 151 172 153 145 138 153 162 178 191 188 178 149 160 162 169 176 151 190 189 189 188 187 178 163 142 124 107 86 115 110 105 181 179 172 174 177 179 177 170 147 117 81 66 72 80 90 115 168 170 121 139 122 146 183 184 174 186 193 189 182 166 159 168 170 137 189 189 189 188 187 182 172 152 137 107 89 116 114 71 88 156 164 163 162 156 139 107 74 58 58 62 65 90 139 173 155 107 116 136 134 164 186 190 183 173 186 195 188 180 167 171 165 124 193 193 192 190 188 185 178 163 150 117 94 112 121 83 48 78 72 83 73 67 57 46 43 49 53 69 105 146 158 123 100 111 136 143 156 181 187 189 190 183 174 187 195 187 176 176 153 123 198 196 196 194 193 189 183 171 162 133 107 110 123 98 62 79 39 33 25 28 43 50 52 67 87 109 118 121 106 101 108 116 141 147 169 185 190 188 191 192 182 175 186 192 180 178 140 121 201 200 200 198 198 193 187 176 168 143 122 110 119 112 67 81 58 37 36 27 36 44 61 79 77 85 98 97 105 105 90 122 144 146 161 182 192 190 186 190 193 182 174 183 181 178 162 127\"\n        ],\n        \"semantic_type\": \"\",\n        \"description\": \"\"\n      }\n    },\n    {\n      \"column\": \"Usage\",\n      \"properties\": {\n        \"dtype\": \"category\",\n        \"num_unique_values\": 3,\n        \"samples\": [\n          \"Training\",\n          \"PublicTest\",\n          \"PrivateTest\"\n        ],\n        \"semantic_type\": \"\",\n        \"description\": \"\"\n      }\n    }\n  ]\n}"
            }
          },
          "metadata": {},
          "execution_count": 14
        }
      ]
    },
    {
      "cell_type": "markdown",
      "source": [
        "\n",
        "*   **emotion : {0=Angry, 1=Disgust, 2=Fear, 3=Happy, 4=Sad,5=Surprise, 6=Neutral, 7=Laugh, 8=Confused, 9=Contempt}**\n",
        "*   **pixels**\n",
        "*   **Usage : {Training, PublicTest, PrivateTest}**\n",
        "\n"
      ],
      "metadata": {
        "id": "9vuOkp2jjlKU"
      }
    },
    {
      "cell_type": "code",
      "source": [
        "df.isnull().sum()"
      ],
      "metadata": {
        "colab": {
          "base_uri": "https://localhost:8080/"
        },
        "id": "m8qJPG1Zin8l",
        "outputId": "b6c24e11-7950-4f3b-e57b-f27f5b1d1077"
      },
      "execution_count": 15,
      "outputs": [
        {
          "output_type": "execute_result",
          "data": {
            "text/plain": [
              "emotion    0\n",
              "pixels     0\n",
              "Usage      0\n",
              "dtype: int64"
            ]
          },
          "metadata": {},
          "execution_count": 15
        }
      ]
    },
    {
      "cell_type": "code",
      "source": [
        "df.info()"
      ],
      "metadata": {
        "colab": {
          "base_uri": "https://localhost:8080/"
        },
        "id": "lapExEA8kENB",
        "outputId": "a6e7809a-3fa8-41ab-a9fc-7ea37702934d"
      },
      "execution_count": 16,
      "outputs": [
        {
          "output_type": "stream",
          "name": "stdout",
          "text": [
            "<class 'pandas.core.frame.DataFrame'>\n",
            "Index: 36857 entries, 0 to 29\n",
            "Data columns (total 3 columns):\n",
            " #   Column   Non-Null Count  Dtype \n",
            "---  ------   --------------  ----- \n",
            " 0   emotion  36857 non-null  int64 \n",
            " 1   pixels   36857 non-null  object\n",
            " 2   Usage    36857 non-null  object\n",
            "dtypes: int64(1), object(2)\n",
            "memory usage: 1.1+ MB\n"
          ]
        }
      ]
    },
    {
      "cell_type": "code",
      "source": [
        "emotion_labels = {0:'Angry', 1:'Digust', 2:'Fear', 3:'Happy', 4:'Sad', 5:'Surprise', 6:'Neutral', 7:'Laugh', 8:'Confused', 9:\"Contempt\"}\n",
        "emotion_counts = df['emotion'].value_counts(sort=True).reset_index()\n",
        "emotion_counts.columns = ['emotion', 'number']\n",
        "emotion_counts['emotion'] = emotion_counts['emotion'].map(emotion_labels)"
      ],
      "metadata": {
        "id": "Ap97rqWIisqM"
      },
      "execution_count": 17,
      "outputs": []
    },
    {
      "cell_type": "code",
      "source": [
        "df.describe().T"
      ],
      "metadata": {
        "colab": {
          "base_uri": "https://localhost:8080/",
          "height": 80
        },
        "id": "v-VONbPNkK7G",
        "outputId": "14874100-6d7c-46e3-d2a8-1151356e1a46"
      },
      "execution_count": 18,
      "outputs": [
        {
          "output_type": "execute_result",
          "data": {
            "text/plain": [
              "           count      mean       std  min  25%  50%  75%  max\n",
              "emotion  36857.0  3.470765  2.055864  0.0  2.0  3.0  5.0  9.0"
            ],
            "text/html": [
              "\n",
              "  <div id=\"df-c759f26d-4322-436d-8abf-876207466a1d\" class=\"colab-df-container\">\n",
              "    <div>\n",
              "<style scoped>\n",
              "    .dataframe tbody tr th:only-of-type {\n",
              "        vertical-align: middle;\n",
              "    }\n",
              "\n",
              "    .dataframe tbody tr th {\n",
              "        vertical-align: top;\n",
              "    }\n",
              "\n",
              "    .dataframe thead th {\n",
              "        text-align: right;\n",
              "    }\n",
              "</style>\n",
              "<table border=\"1\" class=\"dataframe\">\n",
              "  <thead>\n",
              "    <tr style=\"text-align: right;\">\n",
              "      <th></th>\n",
              "      <th>count</th>\n",
              "      <th>mean</th>\n",
              "      <th>std</th>\n",
              "      <th>min</th>\n",
              "      <th>25%</th>\n",
              "      <th>50%</th>\n",
              "      <th>75%</th>\n",
              "      <th>max</th>\n",
              "    </tr>\n",
              "  </thead>\n",
              "  <tbody>\n",
              "    <tr>\n",
              "      <th>emotion</th>\n",
              "      <td>36857.0</td>\n",
              "      <td>3.470765</td>\n",
              "      <td>2.055864</td>\n",
              "      <td>0.0</td>\n",
              "      <td>2.0</td>\n",
              "      <td>3.0</td>\n",
              "      <td>5.0</td>\n",
              "      <td>9.0</td>\n",
              "    </tr>\n",
              "  </tbody>\n",
              "</table>\n",
              "</div>\n",
              "    <div class=\"colab-df-buttons\">\n",
              "\n",
              "  <div class=\"colab-df-container\">\n",
              "    <button class=\"colab-df-convert\" onclick=\"convertToInteractive('df-c759f26d-4322-436d-8abf-876207466a1d')\"\n",
              "            title=\"Convert this dataframe to an interactive table.\"\n",
              "            style=\"display:none;\">\n",
              "\n",
              "  <svg xmlns=\"http://www.w3.org/2000/svg\" height=\"24px\" viewBox=\"0 -960 960 960\">\n",
              "    <path d=\"M120-120v-720h720v720H120Zm60-500h600v-160H180v160Zm220 220h160v-160H400v160Zm0 220h160v-160H400v160ZM180-400h160v-160H180v160Zm440 0h160v-160H620v160ZM180-180h160v-160H180v160Zm440 0h160v-160H620v160Z\"/>\n",
              "  </svg>\n",
              "    </button>\n",
              "\n",
              "  <style>\n",
              "    .colab-df-container {\n",
              "      display:flex;\n",
              "      gap: 12px;\n",
              "    }\n",
              "\n",
              "    .colab-df-convert {\n",
              "      background-color: #E8F0FE;\n",
              "      border: none;\n",
              "      border-radius: 50%;\n",
              "      cursor: pointer;\n",
              "      display: none;\n",
              "      fill: #1967D2;\n",
              "      height: 32px;\n",
              "      padding: 0 0 0 0;\n",
              "      width: 32px;\n",
              "    }\n",
              "\n",
              "    .colab-df-convert:hover {\n",
              "      background-color: #E2EBFA;\n",
              "      box-shadow: 0px 1px 2px rgba(60, 64, 67, 0.3), 0px 1px 3px 1px rgba(60, 64, 67, 0.15);\n",
              "      fill: #174EA6;\n",
              "    }\n",
              "\n",
              "    .colab-df-buttons div {\n",
              "      margin-bottom: 4px;\n",
              "    }\n",
              "\n",
              "    [theme=dark] .colab-df-convert {\n",
              "      background-color: #3B4455;\n",
              "      fill: #D2E3FC;\n",
              "    }\n",
              "\n",
              "    [theme=dark] .colab-df-convert:hover {\n",
              "      background-color: #434B5C;\n",
              "      box-shadow: 0px 1px 3px 1px rgba(0, 0, 0, 0.15);\n",
              "      filter: drop-shadow(0px 1px 2px rgba(0, 0, 0, 0.3));\n",
              "      fill: #FFFFFF;\n",
              "    }\n",
              "  </style>\n",
              "\n",
              "    <script>\n",
              "      const buttonEl =\n",
              "        document.querySelector('#df-c759f26d-4322-436d-8abf-876207466a1d button.colab-df-convert');\n",
              "      buttonEl.style.display =\n",
              "        google.colab.kernel.accessAllowed ? 'block' : 'none';\n",
              "\n",
              "      async function convertToInteractive(key) {\n",
              "        const element = document.querySelector('#df-c759f26d-4322-436d-8abf-876207466a1d');\n",
              "        const dataTable =\n",
              "          await google.colab.kernel.invokeFunction('convertToInteractive',\n",
              "                                                    [key], {});\n",
              "        if (!dataTable) return;\n",
              "\n",
              "        const docLinkHtml = 'Like what you see? Visit the ' +\n",
              "          '<a target=\"_blank\" href=https://colab.research.google.com/notebooks/data_table.ipynb>data table notebook</a>'\n",
              "          + ' to learn more about interactive tables.';\n",
              "        element.innerHTML = '';\n",
              "        dataTable['output_type'] = 'display_data';\n",
              "        await google.colab.output.renderOutput(dataTable, element);\n",
              "        const docLink = document.createElement('div');\n",
              "        docLink.innerHTML = docLinkHtml;\n",
              "        element.appendChild(docLink);\n",
              "      }\n",
              "    </script>\n",
              "  </div>\n",
              "\n",
              "\n",
              "    </div>\n",
              "  </div>\n"
            ],
            "application/vnd.google.colaboratory.intrinsic+json": {
              "type": "dataframe",
              "summary": "{\n  \"name\": \"df\",\n  \"rows\": 1,\n  \"fields\": [\n    {\n      \"column\": \"count\",\n      \"properties\": {\n        \"dtype\": \"number\",\n        \"std\": null,\n        \"min\": 36857.0,\n        \"max\": 36857.0,\n        \"num_unique_values\": 1,\n        \"samples\": [\n          36857.0\n        ],\n        \"semantic_type\": \"\",\n        \"description\": \"\"\n      }\n    },\n    {\n      \"column\": \"mean\",\n      \"properties\": {\n        \"dtype\": \"number\",\n        \"std\": null,\n        \"min\": 3.470765390563529,\n        \"max\": 3.470765390563529,\n        \"num_unique_values\": 1,\n        \"samples\": [\n          3.470765390563529\n        ],\n        \"semantic_type\": \"\",\n        \"description\": \"\"\n      }\n    },\n    {\n      \"column\": \"std\",\n      \"properties\": {\n        \"dtype\": \"number\",\n        \"std\": null,\n        \"min\": 2.055864235349075,\n        \"max\": 2.055864235349075,\n        \"num_unique_values\": 1,\n        \"samples\": [\n          2.055864235349075\n        ],\n        \"semantic_type\": \"\",\n        \"description\": \"\"\n      }\n    },\n    {\n      \"column\": \"min\",\n      \"properties\": {\n        \"dtype\": \"number\",\n        \"std\": null,\n        \"min\": 0.0,\n        \"max\": 0.0,\n        \"num_unique_values\": 1,\n        \"samples\": [\n          0.0\n        ],\n        \"semantic_type\": \"\",\n        \"description\": \"\"\n      }\n    },\n    {\n      \"column\": \"25%\",\n      \"properties\": {\n        \"dtype\": \"number\",\n        \"std\": null,\n        \"min\": 2.0,\n        \"max\": 2.0,\n        \"num_unique_values\": 1,\n        \"samples\": [\n          2.0\n        ],\n        \"semantic_type\": \"\",\n        \"description\": \"\"\n      }\n    },\n    {\n      \"column\": \"50%\",\n      \"properties\": {\n        \"dtype\": \"number\",\n        \"std\": null,\n        \"min\": 3.0,\n        \"max\": 3.0,\n        \"num_unique_values\": 1,\n        \"samples\": [\n          3.0\n        ],\n        \"semantic_type\": \"\",\n        \"description\": \"\"\n      }\n    },\n    {\n      \"column\": \"75%\",\n      \"properties\": {\n        \"dtype\": \"number\",\n        \"std\": null,\n        \"min\": 5.0,\n        \"max\": 5.0,\n        \"num_unique_values\": 1,\n        \"samples\": [\n          5.0\n        ],\n        \"semantic_type\": \"\",\n        \"description\": \"\"\n      }\n    },\n    {\n      \"column\": \"max\",\n      \"properties\": {\n        \"dtype\": \"number\",\n        \"std\": null,\n        \"min\": 9.0,\n        \"max\": 9.0,\n        \"num_unique_values\": 1,\n        \"samples\": [\n          9.0\n        ],\n        \"semantic_type\": \"\",\n        \"description\": \"\"\n      }\n    }\n  ]\n}"
            }
          },
          "metadata": {},
          "execution_count": 18
        }
      ]
    },
    {
      "cell_type": "code",
      "source": [
        "emotion_counts_sorted = emotion_counts.sort_values(by='number', ascending=False)\n",
        "plt.figure(figsize=(10, 4.5))\n",
        "sns.barplot(x=emotion_counts_sorted.emotion, y=emotion_counts_sorted.number, palette='husl')\n",
        "plt.title('Class Distribution')\n",
        "plt.ylabel('Number', fontsize=12)\n",
        "plt.xlabel('Emotions', fontsize=12)\n",
        "plt.xticks(rotation=80)\n",
        "plt.show()"
      ],
      "metadata": {
        "colab": {
          "base_uri": "https://localhost:8080/",
          "height": 614
        },
        "id": "fiiX8L34kR0r",
        "outputId": "0d22c184-ddcb-4dcb-9e2c-95ee8443b855"
      },
      "execution_count": 19,
      "outputs": [
        {
          "output_type": "stream",
          "name": "stderr",
          "text": [
            "<ipython-input-19-ed7c72fb043b>:3: FutureWarning: \n",
            "\n",
            "Passing `palette` without assigning `hue` is deprecated and will be removed in v0.14.0. Assign the `x` variable to `hue` and set `legend=False` for the same effect.\n",
            "\n",
            "  sns.barplot(x=emotion_counts_sorted.emotion, y=emotion_counts_sorted.number, palette='husl')\n"
          ]
        },
        {
          "output_type": "display_data",
          "data": {
            "text/plain": [
              "<Figure size 1000x450 with 1 Axes>"
            ],
            "image/png": "[encoded data removed]"
          },
          "metadata": {}
        }
      ]
    },
    {
      "cell_type": "code",
      "source": [
        "df.Usage.value_counts()"
      ],
      "metadata": {
        "colab": {
          "base_uri": "https://localhost:8080/"
        },
        "id": "2yYpym-GkXLH",
        "outputId": "10097498-ae7c-4a6d-d157-218cab08439b"
      },
      "execution_count": 20,
      "outputs": [
        {
          "output_type": "execute_result",
          "data": {
            "text/plain": [
              "Usage\n",
              "Training       29483\n",
              "PrivateTest     3689\n",
              "PublicTest      3685\n",
              "Name: count, dtype: int64"
            ]
          },
          "metadata": {},
          "execution_count": 20
        }
      ]
    },
    {
      "cell_type": "code",
      "source": [
        "data_train = df[df['Usage'] == 'Training'].copy()\n",
        "data_val = df[df['Usage'] == 'PublicTest'].copy()\n",
        "data_test = df[df['Usage'] == 'PrivateTest'].copy()\n",
        "print(\"train shape: {}, \\nvalidation shape: {}, \\ntest shape: {}\".format(data_train.shape, data_val.shape, data_test.shape))"
      ],
      "metadata": {
        "colab": {
          "base_uri": "https://localhost:8080/"
        },
        "id": "xdC_MWPLkblI",
        "outputId": "ca12fbfb-ab06-4dec-db71-d8ff4b070bdc"
      },
      "execution_count": 21,
      "outputs": [
        {
          "output_type": "stream",
          "name": "stdout",
          "text": [
            "train shape: (29483, 3), \n",
            "validation shape: (3685, 3), \n",
            "test shape: (3689, 3)\n"
          ]
        }
      ]
    },
    {
      "cell_type": "markdown",
      "source": [
        "# **Visualize the Training Dataset**\n",
        "\n",
        "---\n",
        "\n"
      ],
      "metadata": {
        "id": "wbfTTJv4kfa9"
      }
    },
    {
      "cell_type": "code",
      "source": [
        "train_emotion_counts_sorted = data_train['emotion'].value_counts().sort_values(ascending=False)\n",
        "\n",
        "plt.figure(figsize=(10, 4.5))\n",
        "colors = sns.color_palette(\"husl\", n_colors=len(train_emotion_counts_sorted))\n",
        "plt.bar(range(len(train_emotion_counts_sorted)), train_emotion_counts_sorted.values, color=colors)\n",
        "plt.xticks(range(len(train_emotion_counts_sorted)), [emotion_labels[i] for i in train_emotion_counts_sorted.index])\n",
        "plt.title('Train Dataset')\n",
        "plt.ylabel('Number')\n",
        "plt.xlabel('Emotions')\n",
        "plt.show()"
      ],
      "metadata": {
        "colab": {
          "base_uri": "https://localhost:8080/",
          "height": 449
        },
        "id": "ptHxAQwZkgNN",
        "outputId": "5cd0f603-84ea-4737-e0a0-ca73d82b787a"
      },
      "execution_count": 22,
      "outputs": [
        {
          "output_type": "display_data",
          "data": {
            "text/plain": [
              "<Figure size 1000x450 with 1 Axes>"
            ],
            "image/png": "[encoded data removed]"
          },
          "metadata": {}
        }
      ]
    },
    {
      "cell_type": "markdown",
      "source": [
        "# **Visualize the Testing Dataset**\n",
        "\n",
        "---\n",
        "\n"
      ],
      "metadata": {
        "id": "PsMuAtb6knGG"
      }
    },
    {
      "cell_type": "code",
      "source": [
        "test_emotion_counts_sorted = data_test['emotion'].value_counts().sort_values(ascending=False)\n",
        "\n",
        "plt.figure(figsize=(10, 4.5))\n",
        "colors = sns.color_palette(\"husl\", n_colors=len(test_emotion_counts_sorted))\n",
        "plt.bar(range(len(test_emotion_counts_sorted)), test_emotion_counts_sorted.values, color=colors)\n",
        "plt.xticks(range(len(test_emotion_counts_sorted)), [emotion_labels[i] for i in test_emotion_counts_sorted.index])\n",
        "plt.title('Test Dataset')\n",
        "plt.ylabel('Number')\n",
        "plt.xlabel('Emotions')\n",
        "plt.show()"
      ],
      "metadata": {
        "colab": {
          "base_uri": "https://localhost:8080/",
          "height": 449
        },
        "id": "5UOn8kxukoXX",
        "outputId": "791f0b80-583c-485b-c33b-24f422b138db"
      },
      "execution_count": 23,
      "outputs": [
        {
          "output_type": "display_data",
          "data": {
            "text/plain": [
              "<Figure size 1000x450 with 1 Axes>"
            ],
            "image/png": "[encoded data removed]"
          },
          "metadata": {}
        }
      ]
    },
    {
      "cell_type": "markdown",
      "source": [
        "# **Visualize the Validation Dataset**\n",
        "\n",
        "\n",
        "---\n",
        "\n"
      ],
      "metadata": {
        "id": "8Ln-I1ofku0q"
      }
    },
    {
      "cell_type": "code",
      "source": [
        "val_emotion_counts_sorted = data_test['emotion'].value_counts().sort_values(ascending=False)\n",
        "\n",
        "plt.figure(figsize=(10, 4.5))\n",
        "colors = sns.color_palette(\"husl\", n_colors=len(val_emotion_counts_sorted))\n",
        "plt.bar(range(len(val_emotion_counts_sorted)), val_emotion_counts_sorted.values, color=colors)\n",
        "plt.xticks(range(len(val_emotion_counts_sorted)), [emotion_labels[i] for i in val_emotion_counts_sorted.index])\n",
        "plt.title('Validation Dataset')\n",
        "plt.ylabel('Number')\n",
        "plt.xlabel('Emotions')\n",
        "plt.show()"
      ],
      "metadata": {
        "colab": {
          "base_uri": "https://localhost:8080/",
          "height": 449
        },
        "id": "2EZtaSXkkqcb",
        "outputId": "8655718c-12f8-4d53-9337-b094ef6deeb1"
      },
      "execution_count": 24,
      "outputs": [
        {
          "output_type": "display_data",
          "data": {
            "text/plain": [
              "<Figure size 1000x450 with 1 Axes>"
            ],
            "image/png": "[encoded data removed]"
          },
          "metadata": {}
        }
      ]
    },
    {
      "cell_type": "markdown",
      "source": [
        "# **Normalization**\n",
        "\n",
        "---\n",
        "\n"
      ],
      "metadata": {
        "id": "9_6pNjzzk5UQ"
      }
    },
    {
      "cell_type": "code",
      "source": [
        "def prepare_data(data):\n",
        "    x = []\n",
        "    for pixel_sequence in data[\"pixels\"]:\n",
        "        pixels = np.array(pixel_sequence.split(\" \"), dtype='float32').reshape(48, 48, 1)\n",
        "        x.append(pixels)\n",
        "    x = np.array(x) / 255.0\n",
        "    y = to_categorical(data[\"emotion\"], num_classes=10)\n",
        "    return x, y\n",
        "\n"
      ],
      "metadata": {
        "id": "EXgwpkRok74D"
      },
      "execution_count": 26,
      "outputs": []
    },
    {
      "cell_type": "markdown",
      "source": [
        "# **Model**\n",
        "\n",
        "---\n",
        "\n"
      ],
      "metadata": {
        "id": "LqG_NTJKnSz8"
      }
    },
    {
      "cell_type": "code",
      "source": [
        "def prepare_data(df):\n",
        "    x = []\n",
        "    for pixel_sequence in df[\"pixels\"]:\n",
        "        pixels = np.array(pixel_sequence.split(\" \"), dtype='float32').reshape(48, 48, 1)\n",
        "        x.append(pixels)\n",
        "    x = np.array(x) / 255.0\n",
        "    y = to_categorical(df[\"emotion\"], num_classes=10)\n",
        "    return x, y\n",
        "\n",
        "x, y = prepare_data(df)\n",
        "\n",
        "x_train, x_temp, y_train, y_temp = train_test_split(x, y, test_size=0.2, random_state=42)\n",
        "\n",
        "x_val, x_test, y_val, y_test = train_test_split(x_temp, y_temp, test_size=0.5, random_state=42)\n"
      ],
      "metadata": {
        "id": "AAyT5GZWk_gn"
      },
      "execution_count": 27,
      "outputs": []
    },
    {
      "cell_type": "code",
      "source": [
        "model = Sequential()\n",
        "model.add(Conv2D(6, kernel_size=(5, 5), strides=(1, 1), activation='relu', input_shape=(48, 48, 1)))\n",
        "model.add(MaxPooling2D(pool_size=(2, 2), strides=(2, 2)))\n",
        "model.add(Conv2D(16, kernel_size=(5, 5), strides=(1, 1), activation='relu'))\n",
        "model.add(MaxPooling2D(pool_size=(2, 2), strides=(2, 2)))\n",
        "model.add(Flatten())\n",
        "model.add(Dense(120, activation='relu'))\n",
        "model.add(Dense(84, activation='relu'))\n",
        "model.add(Dense(10, activation='softmax'))\n",
        "\n",
        "model.compile(optimizer='adam', loss='categorical_crossentropy', metrics=['accuracy'])\n",
        "\n",
        "history2 = model.fit(x_train, y_train, epochs=20, validation_data=(x_val, y_val))\n",
        "\n",
        "model.save('LeNet5_model.h5')\n",
        "\n",
        "test_loss, test_acc = model.evaluate(x_test, y_test)\n",
        "print(f'Test accuracy: {test_acc}')\n"
      ],
      "metadata": {
        "colab": {
          "base_uri": "https://localhost:8080/"
        },
        "id": "nfTwQ0RbtfgW",
        "outputId": "e817da32-523a-4cb5-ab55-d02475170872"
      },
      "execution_count": null,
      "outputs": [
        {
          "output_type": "stream",
          "name": "stdout",
          "text": [
            "Epoch 1/20\n",
            "922/922 [==============================] - 49s 53ms/step - loss: 1.7134 - accuracy: 0.3356 - val_loss: 1.5426 - val_accuracy: 0.4029\n",
            "Epoch 2/20\n",
            "922/922 [==============================] - 47s 51ms/step - loss: 1.4728 - accuracy: 0.4340 - val_loss: 1.4559 - val_accuracy: 0.4403\n",
            "Epoch 3/20\n",
            "922/922 [==============================] - 49s 53ms/step - loss: 1.3728 - accuracy: 0.4779 - val_loss: 1.4044 - val_accuracy: 0.4696\n",
            "Epoch 4/20\n",
            "922/922 [==============================] - 47s 51ms/step - loss: 1.2979 - accuracy: 0.5053 - val_loss: 1.3649 - val_accuracy: 0.4864\n",
            "Epoch 5/20\n",
            "922/922 [==============================] - 47s 51ms/step - loss: 1.2365 - accuracy: 0.5270 - val_loss: 1.3400 - val_accuracy: 0.4927\n",
            "Epoch 6/20\n",
            "922/922 [==============================] - 50s 55ms/step - loss: 1.1799 - accuracy: 0.5523 - val_loss: 1.3053 - val_accuracy: 0.5076\n",
            "Epoch 7/20\n",
            "922/922 [==============================] - 45s 49ms/step - loss: 1.1251 - accuracy: 0.5758 - val_loss: 1.3032 - val_accuracy: 0.5106\n",
            "Epoch 8/20\n",
            "922/922 [==============================] - 49s 53ms/step - loss: 1.0675 - accuracy: 0.5971 - val_loss: 1.3106 - val_accuracy: 0.5160\n",
            "Epoch 9/20\n",
            "922/922 [==============================] - 46s 50ms/step - loss: 1.0072 - accuracy: 0.6218 - val_loss: 1.3435 - val_accuracy: 0.5203\n",
            "Epoch 10/20\n",
            "922/922 [==============================] - 47s 51ms/step - loss: 0.9523 - accuracy: 0.6480 - val_loss: 1.3795 - val_accuracy: 0.5111\n",
            "Epoch 11/20\n",
            "922/922 [==============================] - 49s 53ms/step - loss: 0.8903 - accuracy: 0.6720 - val_loss: 1.4031 - val_accuracy: 0.5271\n",
            "Epoch 12/20\n",
            "922/922 [==============================] - 45s 49ms/step - loss: 0.8324 - accuracy: 0.6947 - val_loss: 1.4191 - val_accuracy: 0.5231\n",
            "Epoch 13/20\n",
            "922/922 [==============================] - 48s 52ms/step - loss: 0.7769 - accuracy: 0.7148 - val_loss: 1.5210 - val_accuracy: 0.5233\n",
            "Epoch 14/20\n",
            "922/922 [==============================] - 47s 51ms/step - loss: 0.7207 - accuracy: 0.7360 - val_loss: 1.5608 - val_accuracy: 0.5157\n",
            "Epoch 15/20\n",
            "922/922 [==============================] - 46s 50ms/step - loss: 0.6592 - accuracy: 0.7633 - val_loss: 1.7072 - val_accuracy: 0.5184\n",
            "Epoch 16/20\n",
            "922/922 [==============================] - 49s 53ms/step - loss: 0.6134 - accuracy: 0.7769 - val_loss: 1.8540 - val_accuracy: 0.4978\n",
            "Epoch 17/20\n",
            "922/922 [==============================] - 45s 49ms/step - loss: 0.5604 - accuracy: 0.7980 - val_loss: 1.8756 - val_accuracy: 0.5195\n",
            "Epoch 18/20\n",
            "922/922 [==============================] - 48s 52ms/step - loss: 0.5096 - accuracy: 0.8185 - val_loss: 2.0214 - val_accuracy: 0.5136\n",
            "Epoch 19/20\n",
            "922/922 [==============================] - 47s 51ms/step - loss: 0.4716 - accuracy: 0.8324 - val_loss: 2.1448 - val_accuracy: 0.5065\n",
            "Epoch 20/20\n",
            "922/922 [==============================] - 46s 49ms/step - loss: 0.4279 - accuracy: 0.8471 - val_loss: 2.2890 - val_accuracy: 0.5076\n",
            "  1/116 [..............................] - ETA: 3s - loss: 1.3229 - accuracy: 0.5938"
          ]
        },
        {
          "output_type": "stream",
          "name": "stderr",
          "text": [
            "/usr/local/lib/python3.10/dist-packages/keras/src/engine/training.py:3103: UserWarning: You are saving your model as an HDF5 file via `model.save()`. This file format is considered legacy. We recommend using instead the native Keras format, e.g. `model.save('my_model.keras')`.\n",
            "  saving_api.save_model(\n"
          ]
        },
        {
          "output_type": "stream",
          "name": "stdout",
          "text": [
            "116/116 [==============================] - 2s 17ms/step - loss: 2.1722 - accuracy: 0.5071\n",
            "Test accuracy: 0.5070537328720093\n"
          ]
        }
      ]
    },
    {
      "cell_type": "code",
      "source": [
        "plt.figure(figsize=(15, 5))\n",
        "\n",
        "plt.subplot(1, 2, 1)\n",
        "plt.plot(history2.history['accuracy'])\n",
        "plt.plot(history2.history['val_accuracy'])\n",
        "plt.title(' LeNet-5 Model accuracy')\n",
        "plt.xlabel('Epoch')\n",
        "plt.ylabel('Accuracy')\n",
        "plt.legend(['Train', 'Validation'], loc='upper left')\n",
        "plt.grid(True)\n",
        "\n",
        "plt.subplot(1, 2, 2)\n",
        "plt.plot(history2.history['loss'])\n",
        "plt.plot(history2.history['val_loss'])\n",
        "plt.title('  LeNet-5 Model loss')\n",
        "plt.xlabel('Epoch')\n",
        "plt.ylabel('Loss')\n",
        "plt.legend(['Train', 'Validation'], loc='upper left')\n",
        "plt.grid(True)\n",
        "\n",
        "plt.show()"
      ],
      "metadata": {
        "colab": {
          "base_uri": "https://localhost:8080/",
          "height": 487
        },
        "id": "1CWMXSFhlElq",
        "outputId": "e434fe31-b6fb-4fe4-c922-5c8d02495175"
      },
      "execution_count": null,
      "outputs": [
        {
          "output_type": "display_data",
          "data": {
            "text/plain": [
              "<Figure size 1500x500 with 2 Axes>"
            ],
            "image/png": "[encoded data removed]"
          },
          "metadata": {}
        }
      ]
    },
    {
      "cell_type": "code",
      "source": [
        "from keras.layers import Flatten, Dense\n",
        "from keras.models import Model\n",
        "from keras.losses import categorical_crossentropy\n",
        "from keras.models import Sequential\n",
        "from keras.layers import Conv2D, MaxPooling2D, Flatten, Dense\n",
        "from sklearn.model_selection import train_test_split\n",
        "\n",
        "pixel_list = df['pixels'].to_list()\n",
        "Arr = []\n",
        "for pix in pixel_list:\n",
        "    img = [int(pixel) for pixel in pix.split(' ')]\n",
        "    img = np.asarray(img).reshape(48, 48)\n",
        "    Arr.append(img.astype('float32') / 255.0)\n",
        "X = np.array(Arr)\n",
        "X = np.expand_dims(X, -1)\n",
        "X.shape\n",
        "y = df['emotion'].values\n",
        "y.shape\n",
        "\n",
        "\n",
        "x_train,x_test,y_train,y_test = train_test_split(X,y,test_size=0.1,random_state = 42)\n",
        "model = Sequential()\n",
        "model.add(Conv2D(32, (3, 3), activation='relu', input_shape=(48, 48, 1)))\n",
        "model.add(MaxPooling2D((2, 2)))\n",
        "model.add(Conv2D(64, (3, 3), activation='relu'))\n",
        "model.add(MaxPooling2D((2, 2)))\n",
        "model.add(Flatten())\n",
        "\n",
        "model.add(Dense(64, activation='relu'))\n",
        "\n",
        "model.add(Dense(10, activation='softmax'))\n",
        "\n",
        "model.compile(optimizer='adam', loss='sparse_categorical_crossentropy', metrics=['accuracy'])\n",
        "\n",
        "\n",
        "\n",
        "history = model.fit(x_train, y_train, epochs=20, validation_split=0.2)\n",
        "model.save('model.h5')"
      ],
      "metadata": {
        "colab": {
          "base_uri": "https://localhost:8080/"
        },
        "id": "-r-Ba-KRRFV9",
        "outputId": "7694fa81-a5ac-435d-e1de-fac83ee68de6"
      },
      "execution_count": null,
      "outputs": [
        {
          "output_type": "stream",
          "name": "stdout",
          "text": [
            "Epoch 1/20\n",
            "829/829 [==============================] - 83s 99ms/step - loss: 1.6734 - accuracy: 0.3500 - val_loss: 1.5260 - val_accuracy: 0.4167\n",
            "Epoch 2/20\n",
            "829/829 [==============================] - 84s 101ms/step - loss: 1.4353 - accuracy: 0.4521 - val_loss: 1.4039 - val_accuracy: 0.4697\n",
            "Epoch 3/20\n",
            "829/829 [==============================] - 85s 103ms/step - loss: 1.3232 - accuracy: 0.4981 - val_loss: 1.3253 - val_accuracy: 0.4970\n",
            "Epoch 4/20\n",
            "829/829 [==============================] - 81s 98ms/step - loss: 1.2486 - accuracy: 0.5289 - val_loss: 1.3150 - val_accuracy: 0.5047\n",
            "Epoch 5/20\n",
            "829/829 [==============================] - 83s 100ms/step - loss: 1.1866 - accuracy: 0.5529 - val_loss: 1.2963 - val_accuracy: 0.5163\n",
            "Epoch 6/20\n",
            "829/829 [==============================] - 79s 96ms/step - loss: 1.1299 - accuracy: 0.5772 - val_loss: 1.2807 - val_accuracy: 0.5158\n",
            "Epoch 7/20\n",
            "829/829 [==============================] - 87s 105ms/step - loss: 1.0769 - accuracy: 0.5961 - val_loss: 1.3018 - val_accuracy: 0.5255\n",
            "Epoch 8/20\n",
            "829/829 [==============================] - 81s 98ms/step - loss: 1.0241 - accuracy: 0.6180 - val_loss: 1.2824 - val_accuracy: 0.5314\n",
            "Epoch 9/20\n",
            "829/829 [==============================] - 83s 100ms/step - loss: 0.9756 - accuracy: 0.6395 - val_loss: 1.3194 - val_accuracy: 0.5142\n",
            "Epoch 10/20\n",
            "829/829 [==============================] - 82s 99ms/step - loss: 0.9252 - accuracy: 0.6581 - val_loss: 1.3219 - val_accuracy: 0.5238\n",
            "Epoch 11/20\n",
            "829/829 [==============================] - 84s 102ms/step - loss: 0.8792 - accuracy: 0.6758 - val_loss: 1.3417 - val_accuracy: 0.5281\n",
            "Epoch 12/20\n",
            "829/829 [==============================] - 87s 105ms/step - loss: 0.8418 - accuracy: 0.6916 - val_loss: 1.4238 - val_accuracy: 0.5145\n",
            "Epoch 13/20\n",
            "829/829 [==============================] - 86s 104ms/step - loss: 0.7952 - accuracy: 0.7086 - val_loss: 1.4537 - val_accuracy: 0.5220\n",
            "Epoch 14/20\n",
            "829/829 [==============================] - 87s 104ms/step - loss: 0.7579 - accuracy: 0.7210 - val_loss: 1.4715 - val_accuracy: 0.5124\n",
            "Epoch 15/20\n",
            "829/829 [==============================] - 81s 98ms/step - loss: 0.7126 - accuracy: 0.7404 - val_loss: 1.5487 - val_accuracy: 0.5095\n",
            "Epoch 16/20\n",
            "829/829 [==============================] - 87s 104ms/step - loss: 0.6767 - accuracy: 0.7507 - val_loss: 1.5877 - val_accuracy: 0.5143\n",
            "Epoch 17/20\n",
            "829/829 [==============================] - 81s 97ms/step - loss: 0.6376 - accuracy: 0.7678 - val_loss: 1.6511 - val_accuracy: 0.5222\n",
            "Epoch 18/20\n",
            "829/829 [==============================] - 91s 109ms/step - loss: 0.6034 - accuracy: 0.7794 - val_loss: 1.6988 - val_accuracy: 0.5251\n",
            "Epoch 19/20\n",
            "829/829 [==============================] - 86s 103ms/step - loss: 0.5708 - accuracy: 0.7930 - val_loss: 1.7996 - val_accuracy: 0.5175\n",
            "Epoch 20/20\n",
            "829/829 [==============================] - 83s 101ms/step - loss: 0.5400 - accuracy: 0.7997 - val_loss: 1.8410 - val_accuracy: 0.4935\n"
          ]
        },
        {
          "output_type": "stream",
          "name": "stderr",
          "text": [
            "/usr/local/lib/python3.10/dist-packages/keras/src/engine/training.py:3103: UserWarning: You are saving your model as an HDF5 file via `model.save()`. This file format is considered legacy. We recommend using instead the native Keras format, e.g. `model.save('my_model.keras')`.\n",
            "  saving_api.save_model(\n"
          ]
        }
      ]
    },
    {
      "cell_type": "code",
      "source": [
        "\n",
        "plt.figure(figsize=(15, 5))\n",
        "\n",
        "plt.subplot(1, 2, 1)\n",
        "plt.plot(history.history['accuracy'])\n",
        "plt.plot(history.history['val_accuracy'])\n",
        "plt.title('CNN Model accuracy')\n",
        "plt.xlabel('Epoch')\n",
        "plt.ylabel('Accuracy')\n",
        "plt.legend(['Train', 'Validation'], loc='upper left')\n",
        "plt.grid(True)\n",
        "\n",
        "plt.subplot(1, 2, 2)\n",
        "plt.plot(history.history['loss'])\n",
        "plt.plot(history.history['val_loss'])\n",
        "plt.title('CNN Model loss')\n",
        "plt.xlabel('Epoch')\n",
        "plt.ylabel('Loss')\n",
        "plt.legend(['Train', 'Validation'], loc='upper left')\n",
        "plt.grid(True)\n",
        "\n",
        "plt.show()"
      ],
      "metadata": {
        "colab": {
          "base_uri": "https://localhost:8080/",
          "height": 404
        },
        "id": "av46FCsXY-ti",
        "outputId": "e3f9b74e-7f78-4114-ea0c-e9ee6628a1f8"
      },
      "execution_count": null,
      "outputs": [
        {
          "output_type": "display_data",
          "data": {
            "text/plain": [
              "<Figure size 1500x500 with 2 Axes>"
            ],
            "image/png": "[encoded data removed]"
          },
          "metadata": {}
        }
      ]
    },
    {
      "cell_type": "code",
      "source": [
        "from google.colab import files\n",
        "files.download('model.h5')"
      ],
      "metadata": {
        "colab": {
          "base_uri": "https://localhost:8080/",
          "height": 17
        },
        "id": "C6QV7y41_gSR",
        "outputId": "2157c659-6e69-4fa6-fdcc-e47e88c65382"
      },
      "execution_count": null,
      "outputs": [
        {
          "output_type": "display_data",
          "data": {
            "text/plain": [
              "<IPython.core.display.Javascript object>"
            ],
            "application/javascript": [
              "\n",
              "    async function download(id, filename, size) {\n",
              "      if (!google.colab.kernel.accessAllowed) {\n",
              "        return;\n",
              "      }\n",
              "      const div = document.createElement('div');\n",
              "      const label = document.createElement('label');\n",
              "      label.textContent = `Downloading \"${filename}\": `;\n",
              "      div.appendChild(label);\n",
              "      const progress = document.createElement('progress');\n",
              "      progress.max = size;\n",
              "      div.appendChild(progress);\n",
              "      document.body.appendChild(div);\n",
              "\n",
              "      const buffers = [];\n",
              "      let downloaded = 0;\n",
              "\n",
              "      const channel = await google.colab.kernel.comms.open(id);\n",
              "      // Send a message to notify the kernel that we're ready.\n",
              "      channel.send({})\n",
              "\n",
              "      for await (const message of channel.messages) {\n",
              "        // Send a message to notify the kernel that we're ready.\n",
              "        channel.send({})\n",
              "        if (message.buffers) {\n",
              "          for (const buffer of message.buffers) {\n",
              "            buffers.push(buffer);\n",
              "            downloaded += buffer.byteLength;\n",
              "            progress.value = downloaded;\n",
              "          }\n",
              "        }\n",
              "      }\n",
              "      const blob = new Blob(buffers, {type: 'application/binary'});\n",
              "      const a = document.createElement('a');\n",
              "      a.href = window.URL.createObjectURL(blob);\n",
              "      a.download = filename;\n",
              "      div.appendChild(a);\n",
              "      a.click();\n",
              "      div.remove();\n",
              "    }\n",
              "  "
            ]
          },
          "metadata": {}
        },
        {
          "output_type": "display_data",
          "data": {
            "text/plain": [
              "<IPython.core.display.Javascript object>"
            ],
            "application/javascript": [
              "download(\"download_0d28fd4e-4cb0-43ad-be7f-f38064fab802\", \"model.h5\", 5193264)"
            ]
          },
          "metadata": {}
        }
      ]
    },
    {
      "cell_type": "markdown",
      "source": [
        "# **All Code**"
      ],
      "metadata": {
        "id": "dqOAh5w2o0bk"
      }
    },
    {
      "cell_type": "code",
      "source": [
        "import pandas as pd\n",
        "import numpy as np\n",
        "from keras.utils import to_categorical\n",
        "from keras.models import Sequential\n",
        "from keras.layers import Conv2D, MaxPooling2D, Flatten, Dense\n",
        "\n",
        "data_fer = pd.read_csv('fer2013.csv')\n",
        "data_ck = pd.read_csv('ckextended.csv')\n",
        "data_new = pd.read_csv('/content/drive/MyDrive/image/laugh.csv')\n",
        "\n",
        "data_ck['emotion'] = 9\n",
        "data_new['emotion'] = 7\n",
        "\n",
        "df = pd.concat([data_fer, data_ck[['emotion', 'pixels', 'Usage']]])\n",
        "df = pd.concat([df, data_new[['emotion', 'pixels', 'Usage']]])\n",
        "\n",
        "data_train = df[df['Usage'] == 'Training'].copy()\n",
        "data_val = df[df['Usage'] == 'PublicTest'].copy()\n",
        "data_test = df[df['Usage'] == 'PrivateTest'].copy()\n",
        "emotion_labels = {0:'Angry', 1:'Digust', 2:'Fear', 3:'Happy', 4:'Sad', 5:'Surprise', 6:'Neutral', 7:'Laugh',9:\"Contempt\"}\n",
        "emotion_counts = df['emotion'].value_counts(sort=True).reset_index()\n",
        "emotion_counts.columns = ['emotion', 'number']\n",
        "emotion_counts['emotion'] = emotion_counts['emotion'].map(emotion_labels)\n",
        "def prepare_data(data):\n",
        "    x = []\n",
        "    for pixel_sequence in data[\"pixels\"]:\n",
        "        pixels = np.array(pixel_sequence.split(\" \"), dtype='float32').reshape(48, 48, 1)\n",
        "        x.append(pixels)\n",
        "    x = np.array(x) / 255.0\n",
        "    y = to_categorical(data[\"emotion\"], num_classes=10)\n",
        "    return x, y\n",
        "\n",
        "x_train, y_train = prepare_data(data_train)\n",
        "x_val, y_val = prepare_data(data_val)\n",
        "x_test, y_test = prepare_data(data_test)\n",
        "\n",
        "model = Sequential()\n",
        "model.add(Conv2D(6, kernel_size=(5, 5), strides=(1, 1), activation='relu', input_shape=(48, 48, 1)))\n",
        "model.add(MaxPooling2D(pool_size=(2, 2), strides=(2, 2)))\n",
        "model.add(Conv2D(16, kernel_size=(5, 5), strides=(1, 1), activation='relu'))\n",
        "model.add(MaxPooling2D(pool_size=(2, 2), strides=(2, 2)))\n",
        "model.add(Flatten())\n",
        "model.add(Dense(120, activation='relu'))\n",
        "model.add(Dense(84, activation='relu'))\n",
        "model.add(Dense(10, activation='softmax'))\n",
        "\n",
        "model.compile(optimizer='adam', loss='categorical_crossentropy', metrics=['accuracy'])\n",
        "\n",
        "history2 = model.fit(x_train, y_train, epochs=20, validation_data=(x_val, y_val))\n",
        "\n",
        "model.save('LeNet5_model.h5')\n",
        "\n",
        "test_loss, test_acc = model.evaluate(x_test, y_test)\n",
        "print(f'Test accuracy: {test_acc}')\n"
      ],
      "metadata": {
        "colab": {
          "base_uri": "https://localhost:8080/"
        },
        "id": "JZx4wAE2LG1A",
        "outputId": "ac432fd6-9b36-4e08-b08f-c179cf7f00ff"
      },
      "execution_count": null,
      "outputs": [
        {
          "output_type": "stream",
          "name": "stdout",
          "text": [
            "Epoch 1/20\n",
            "921/921 [==============================] - 44s 47ms/step - loss: 1.6624 - accuracy: 0.3540 - val_loss: 1.4886 - val_accuracy: 0.4200\n",
            "Epoch 2/20\n",
            "921/921 [==============================] - 42s 45ms/step - loss: 1.4403 - accuracy: 0.4478 - val_loss: 1.3739 - val_accuracy: 0.4730\n",
            "Epoch 3/20\n",
            "921/921 [==============================] - 40s 44ms/step - loss: 1.3177 - accuracy: 0.4975 - val_loss: 1.3237 - val_accuracy: 0.5031\n",
            "Epoch 4/20\n",
            "921/921 [==============================] - 44s 48ms/step - loss: 1.2293 - accuracy: 0.5313 - val_loss: 1.2699 - val_accuracy: 0.5151\n",
            "Epoch 5/20\n",
            "921/921 [==============================] - 41s 44ms/step - loss: 1.1551 - accuracy: 0.5641 - val_loss: 1.2739 - val_accuracy: 0.5162\n",
            "Epoch 6/20\n",
            "921/921 [==============================] - 41s 45ms/step - loss: 1.0831 - accuracy: 0.5952 - val_loss: 1.2802 - val_accuracy: 0.5210\n",
            "Epoch 7/20\n",
            "921/921 [==============================] - 43s 47ms/step - loss: 1.0171 - accuracy: 0.6170 - val_loss: 1.2738 - val_accuracy: 0.5357\n",
            "Epoch 8/20\n",
            "921/921 [==============================] - 41s 44ms/step - loss: 0.9451 - accuracy: 0.6493 - val_loss: 1.3027 - val_accuracy: 0.5273\n",
            "Epoch 9/20\n",
            "921/921 [==============================] - 42s 46ms/step - loss: 0.8807 - accuracy: 0.6724 - val_loss: 1.3283 - val_accuracy: 0.5349\n",
            "Epoch 10/20\n",
            "921/921 [==============================] - 42s 45ms/step - loss: 0.8043 - accuracy: 0.7027 - val_loss: 1.4014 - val_accuracy: 0.5406\n",
            "Epoch 11/20\n",
            "921/921 [==============================] - 41s 44ms/step - loss: 0.7369 - accuracy: 0.7280 - val_loss: 1.4559 - val_accuracy: 0.5381\n",
            "Epoch 12/20\n",
            "921/921 [==============================] - 44s 47ms/step - loss: 0.6733 - accuracy: 0.7532 - val_loss: 1.5630 - val_accuracy: 0.5262\n",
            "Epoch 13/20\n",
            "921/921 [==============================] - 41s 44ms/step - loss: 0.6123 - accuracy: 0.7764 - val_loss: 1.6221 - val_accuracy: 0.5213\n",
            "Epoch 14/20\n",
            "921/921 [==============================] - 40s 44ms/step - loss: 0.5448 - accuracy: 0.8017 - val_loss: 1.6940 - val_accuracy: 0.5297\n",
            "Epoch 15/20\n",
            "921/921 [==============================] - 44s 48ms/step - loss: 0.4882 - accuracy: 0.8234 - val_loss: 1.8643 - val_accuracy: 0.5308\n",
            "Epoch 16/20\n",
            "921/921 [==============================] - 41s 44ms/step - loss: 0.4350 - accuracy: 0.8425 - val_loss: 2.0133 - val_accuracy: 0.5357\n",
            "Epoch 17/20\n",
            "921/921 [==============================] - 42s 46ms/step - loss: 0.3924 - accuracy: 0.8572 - val_loss: 2.1252 - val_accuracy: 0.5251\n",
            "Epoch 18/20\n",
            "921/921 [==============================] - 43s 47ms/step - loss: 0.3453 - accuracy: 0.8756 - val_loss: 2.3593 - val_accuracy: 0.5102\n",
            "Epoch 19/20\n",
            "921/921 [==============================] - 41s 44ms/step - loss: 0.3110 - accuracy: 0.8886 - val_loss: 2.4670 - val_accuracy: 0.5305\n",
            "Epoch 20/20\n",
            "921/921 [==============================] - 43s 46ms/step - loss: 0.2827 - accuracy: 0.8988 - val_loss: 2.6672 - val_accuracy: 0.5159\n",
            "  6/116 [>.............................] - ETA: 1s - loss: 2.2924 - accuracy: 0.5469"
          ]
        },
        {
          "output_type": "stream",
          "name": "stderr",
          "text": [
            "/usr/local/lib/python3.10/dist-packages/keras/src/engine/training.py:3103: UserWarning: You are saving your model as an HDF5 file via `model.save()`. This file format is considered legacy. We recommend using instead the native Keras format, e.g. `model.save('my_model.keras')`.\n",
            "  saving_api.save_model(\n"
          ]
        },
        {
          "output_type": "stream",
          "name": "stdout",
          "text": [
            "116/116 [==============================] - 2s 14ms/step - loss: 2.7279 - accuracy: 0.5189\n",
            "Test accuracy: 0.5188500285148621\n"
          ]
        }
      ]
    },
    {
      "cell_type": "code",
      "source": [
        "from sklearn.metrics import mean_absolute_error, mean_squared_error, r2_score\n",
        "import pandas as pd\n",
        "from keras.utils import to_categorical\n",
        "\n",
        "\n",
        "y_test_encoded = to_categorical(y_test)\n",
        "\n",
        "\n",
        "model_names = [\n",
        "    'model',\n",
        "    'LeNet5_model'\n",
        "]\n",
        "\n",
        "model = load_model('model.h5')\n",
        "LeNet5_model = load_model('LeNet5_model.h5')\n",
        "\n",
        "models = [model, LeNet5_model]\n",
        "\n",
        "rows = []\n",
        "model_predictions = []\n",
        "\n",
        "for model_name, model in zip(model_names, models):\n",
        "    model.fit(x_train, y_train)\n",
        "    predictions = model.predict(x_test)\n",
        "    model_predictions.append(predictions)\n",
        "\n",
        "    mae = mean_absolute_error(y_test_encoded, predictions)\n",
        "    mse = mean_squared_error(y_test_encoded, predictions)\n",
        "    rmse = np.sqrt(mse)\n",
        "    r2 = r2_score(y_test_encoded, predictions)\n",
        "    mape = np.mean(np.abs((y_test_encoded - predictions) / y_test_encoded)) * 100\n",
        "\n",
        "    rows.append({\"Model\": model_name, \"MAE\": mae, \"MSE\": mse, \"RMSE\": rmse, \"R^2\": r2, \"MAPE\": mape})\n",
        "\n",
        "metrics_df = pd.DataFrame(rows)\n",
        "\n",
        "\n",
        "print(metrics_df)"
      ],
      "metadata": {
        "colab": {
          "base_uri": "https://localhost:8080/"
        },
        "id": "MI6VedwlXoE1",
        "outputId": "0c47679a-5ed9-4148-8259-0537928a82aa"
      },
      "execution_count": null,
      "outputs": [
        {
          "output_type": "stream",
          "name": "stdout",
          "text": [
            "1036/1036 [==============================] - 102s 96ms/step - loss: 0.7877 - accuracy: 0.7406\n",
            "116/116 [==============================] - 3s 21ms/step\n"
          ]
        },
        {
          "output_type": "stream",
          "name": "stderr",
          "text": [
            "<ipython-input-42-fd12d1cd3ecc>:35: RuntimeWarning: divide by zero encountered in divide\n",
            "  mape = np.mean(np.abs((y_test_encoded - predictions) / y_test_encoded)) * 100\n"
          ]
        },
        {
          "output_type": "stream",
          "name": "stdout",
          "text": [
            "1036/1036 [==============================] - 50s 48ms/step - loss: 0.7778 - accuracy: 0.7446\n",
            "116/116 [==============================] - 2s 14ms/step\n",
            "          Model       MAE       MSE      RMSE       R^2  MAPE\n",
            "0         model  0.104624  0.065824  0.256563  0.222293   inf\n",
            "1  LeNet5_model  0.107387  0.068992  0.262662  0.183082   inf\n"
          ]
        },
        {
          "output_type": "stream",
          "name": "stderr",
          "text": [
            "<ipython-input-42-fd12d1cd3ecc>:35: RuntimeWarning: divide by zero encountered in divide\n",
            "  mape = np.mean(np.abs((y_test_encoded - predictions) / y_test_encoded)) * 100\n"
          ]
        }
      ]
    },
    {
      "cell_type": "markdown",
      "source": [
        "# **Test**\n",
        "\n",
        "---\n",
        "\n"
      ],
      "metadata": {
        "id": "H8wfvgo3BrrD"
      }
    },
    {
      "cell_type": "code",
      "source": [
        "import numpy as np\n",
        "import matplotlib.pyplot as plt\n",
        "from tensorflow.keras.preprocessing import image\n",
        "from tensorflow.keras.models import load_model\n",
        "model = load_model('LeNet5_model.h5')\n",
        "\n",
        "test_image = \"laugh.png\"\n",
        "\n",
        "img = image.load_img(test_image, target_size=(48, 48), grayscale=True)\n",
        "img_array = image.img_to_array(img)\n",
        "img_array = np.expand_dims(img_array, axis=0)\n",
        "\n",
        "custom = model.predict(img_array)\n",
        "\n",
        "objects = ('Angry', 'Digust', 'Fear', 'Happy', 'Sad', 'Surprise', 'Neutral','Laugh', 'Contempt')\n",
        "\n",
        "\n",
        "plt.figure(figsize=(8, 4))\n",
        "\n",
        "\n",
        "plt.subplot(1, 2, 1)\n",
        "plt.bar(range(len(objects)), custom[0][:len(objects)], align='center', alpha=0.5, color='g')\n",
        "plt.xticks(range(len(objects)), objects)\n",
        "plt.ylabel('Percentage')\n",
        "plt.title('Emotion')\n",
        "\n",
        "\n",
        "plt.subplot(1, 2, 2)\n",
        "plt.imshow(img, cmap='gray')\n",
        "plt.axis('off')\n",
        "plt.title('Test Image')\n",
        "\n",
        "plt.tight_layout()\n",
        "plt.show()"
      ],
      "metadata": {
        "colab": {
          "base_uri": "https://localhost:8080/",
          "height": 478
        },
        "id": "kpCvPCI4AtIN",
        "outputId": "ee76fcda-895b-473d-97d4-2657fa18ee71"
      },
      "execution_count": null,
      "outputs": [
        {
          "output_type": "stream",
          "name": "stderr",
          "text": [
            "/usr/local/lib/python3.10/dist-packages/keras/src/utils/image_utils.py:409: UserWarning: grayscale is deprecated. Please use color_mode = \"grayscale\"\n",
            "  warnings.warn(\n"
          ]
        },
        {
          "output_type": "stream",
          "name": "stdout",
          "text": [
            "1/1 [==============================] - 0s 192ms/step\n"
          ]
        },
        {
          "output_type": "display_data",
          "data": {
            "text/plain": [
              "<Figure size 800x400 with 2 Axes>"
            ],
            "image/png": "[encoded data removed]"
          },
          "metadata": {}
        }
      ]
    }
  ]
}